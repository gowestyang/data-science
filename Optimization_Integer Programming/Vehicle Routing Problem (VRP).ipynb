{
 "cells": [
  {
   "cell_type": "markdown",
   "metadata": {},
   "source": [
    "# Integer Programming - Vehicle Routing Problem (VRP)\n",
    "Yang Xi <br>\n",
    "14 Aug, 2018\n",
    "\n",
    "<br>\n",
    "\n",
    "- Problem Statement\n",
    "    - Vehicle Routing Problem (VRP)\n",
    "    - VRP Optimization\n",
    "- Integer Programming\n",
    "    - Variables\n",
    "    - Objective\n",
    "    - Constraints\n",
    "    - Sub-tour Avoidance\n",
    "- Implementation\n",
    "    - Helper Functions\n",
    "    - Test Case: Sample Problem\n",
    "    - Test Case: Sub-Tour Avoidance\n",
    "    - Test Case: Load Constraint"
   ]
  },
  {
   "cell_type": "markdown",
   "metadata": {},
   "source": [
    "# Problem Statement\n",
    "\n",
    "In this notebook, I will demonstrate how to use Integer Programming to solve an optimization problem.\n",
    "\n",
    "<br>\n",
    "\n",
    "### Vehicle Routing Problem (VRP)\n",
    "Every day, a delivery company need to deliver goods from its central warehouse to many customers, using a fleet of vehicles.<br>\n",
    "The goal is to design a route for each vehicle so that\n",
    "* all customers are served by exactly one vehicle\n",
    "* total travel distance of the vehicles is minimized\n",
    "\n",
    "The vehicles have fixed capacity and customers have different demands.<br>\n",
    "Figure below illustrates a sample VRP and a feasible (but not optimal) solution to the problem:\n",
    "<img src=\"images/sample VRP.jpg\">\n",
    "\n",
    "The locations are labeled from 0 to 4, with 0 being the warehouse, and 1 to 4 being the customers. The solution uses two vehicles with are indicated by different colored routes.\n",
    "\n",
    "<br>\n",
    "\n",
    "### VRP Optimization\n",
    "List of $N$ locations $L_n$, where $n=0...N-1$ :\n",
    "* $L_0$ is the warehouse. All vehicles start and end their routes at the warehouse.\n",
    "* Remaining locations are the customers.\n",
    "* $D[j,k]$ is the **Euclidean distance** between $L_j$ and $L_k$\n",
    "* Here we assume vehicles can travel in straight lines.\n",
    "\n",
    "Each location is characterized by three values $<d_n, x_n, y_n>$ :\n",
    "* demand $dn$ at point $x_n, y_n$, with $1\\leq n \\leq N-1$\n",
    "\n",
    "Fleet of $V$ vehicles $H_v$, where $v=0...V-1$ :\n",
    "* each vehicle has a limited capacity $c$.\n",
    "\n",
    "Let\n",
    "* $T_v$ be a list with the sequence of deliveries made by vehicle $v$, excluding the warehouse\n",
    "    * Each element $T_{v,i}$ is one location, with $i=0...|T_v|-1$\n",
    "    * $T_{v,i}\\in 1...N-1$\n",
    "\n",
    "The VRP is formulated as the following optimization problem:<br>\n",
    "<br>\n",
    "*minimize:*\n",
    "$$ \\sum\\limits_{\\substack{v\\in V}} \\left( D[0,T_{v,0}]+\\sum_{j=1}^{|T_v|-2}D[T_{v,j},T_{v,j+1}]+D[T_{v,|T_v|-1},0] \\right) $$\n",
    "*subject to:*\n",
    "$$ \\sum\\limits_{\\substack{j\\in T_v}}d_j \\leq c \\space (v\\in V) $$\n",
    "$$ \\sum\\limits_{\\substack{v\\in V}}(l\\in T_v)=1 \\space (l\\in 1...N-1) $$\n"
   ]
  },
  {
   "cell_type": "markdown",
   "metadata": {},
   "source": [
    "# Integer Programming\n",
    "The VRP optimization problem can be formulated as an Interger Programming model in the following manner:<br>\n",
    "\n",
    "<br>\n",
    "\n",
    "### Variables\n",
    "$x[v,a,b]$ : Whether vehicle $v$ will travel from $L_a$ to $L_b$\n",
    "$$ x[v,a,b]\\in[0,1] $$\n",
    "\n",
    "<br>\n",
    "\n",
    "### Objective\n",
    "$$ minimize\\sum_v\\sum_a\\sum_b x[v,a,b]D[a,b] $$\n",
    "\n",
    "<br>\n",
    "\n",
    "### Constraints\n",
    "\n",
    "\n",
    "**Location Constraints**<br>\n",
    "These contraints apply to each location.<br>\n",
    "(customers) Each customer is visited by one and only one vehicle, one and only once:\n",
    "$$ \\sum_v\\sum_b x[v,a,b]=1,\\text{ for }a=1..N-1 $$\n",
    "$$ \\sum_v\\sum_a x[v,a,b]=1,\\text{ for }b=1..N-1 $$\n",
    "<br>\n",
    "(warehouse) The warehouse always have the same number of arrivals and departures:\n",
    "$$ \\sum_v\\sum_b x[v,0,b]=\\sum_v\\sum_b x[v,b,0] $$\n",
    "\n",
    "<br>\n",
    "\n",
    "**Vehicle Constraints**<br>\n",
    "These contraints apply to each vehicle.<br>\n",
    "(load) A vehicle cannot carry more then it's capacity:\n",
    "$$ \\sum_a\\sum_b x[v,a,b]\\frac{d_a+d_b}{2}\\leq c,\\text{ for }v=0...V-1 $$\n",
    "<br>\n",
    "(start point) A vehicle always starts from warehouse if assigned:<br>\n",
    "*Let:*\n",
    "$$ A_v\\text{(is assigned)}=\\sum_a\\sum_b x[v,a,b] $$\n",
    "$$ F_v\\text{(is from warehouse)}=\\sum_b x[v,a,b] $$\n",
    "$$ M\\text{(a large multiplier)} = 10000 $$\n",
    "*Constraints:*\n",
    "$$ A_v-F_v\\geq 0,\\text{ for }v=0...V-1 $$\n",
    "$$ A_v\\leq MF_v,\\text{ for }v=0...V-1 $$\n",
    "\n",
    "<br>\n",
    "\n",
    "**Flow Constratins**<br>\n",
    "These contraints apply to each vehicle at each location.<br>\n",
    "(flow) If a vehicle (not) arrives in a location, it must also (not) depart from that location\n",
    "$$ \\sum_b x[v,a,b]=\\sum_b x[v,b,a],\\text{ for }v=0...V-1,a=1...N-1 $$\n",
    "<br>\n",
    "(no loop) No loop for each vehicle at each customer:\n",
    "$$ x[v,a,a]==0,\\text{ for }v=0...V-1,a=1...N-1 $$\n",
    "\n",
    "<br>\n",
    "\n",
    "### Sub-tour Avoidance\n",
    "Sub-tour avoidance is implemented by adding lazy constraints in iterations:\n",
    "1. Solve the optimization problem \n",
    "2. If no feasible solution: \n",
    "    * Break the loop \n",
    "    * Output \"no feasible solution\"\n",
    "3. Exam the feasible solution for sub-tour \n",
    "4. If no sub-tour: \n",
    "    * Break the loop \n",
    "    * Output the optimized solution \n",
    "5. Add the identified sub-tour to constraints \n",
    "6. Restart from step 1 "
   ]
  },
  {
   "cell_type": "markdown",
   "metadata": {},
   "source": [
    "# Implementation\n",
    "### Helper Functions\n",
    "The following helper functions are defined to implement the Integer Programming model."
   ]
  },
  {
   "cell_type": "code",
   "execution_count": 1,
   "metadata": {},
   "outputs": [],
   "source": [
    "import pandas as pd\n",
    "from scipy.spatial import distance_matrix\n",
    "from pulp import *\n",
    "\n",
    "# Function to define and solve the Integer Programming model\n",
    "def DefineSolveIP(N,V,c,d,x,y):\n",
    "    assert len(d) == len(x), \"length of location characters (d,x,y) should be the same length\"\n",
    "    assert len(x) == len(y), \"length of location characters (d,x,y) should be the same length\"\n",
    "    assert N == len(d), \"Number of locations (N) should match length of location characters (d,x,y)\"\n",
    "    \n",
    "    v_N = [n for n in range(N)]\n",
    "    v_V = [v for v in range(V)]\n",
    "    m_D = distance_matrix(list(zip(x,y)), list(zip(x,y)))\n",
    "\n",
    "    # Define optimization problem\n",
    "    prob = LpProblem(name='VRP', sense=LpMinimize)\n",
    "\n",
    "    # Define binary variables\n",
    "    x_vab = LpVariable.dict('xvab',(v_V, v_N, v_N), 0, 1, LpInteger) # vehicle v, location a, location b\n",
    "\n",
    "    # Define objective\n",
    "    prob += lpSum([x_vab[v,a,b]*m_D[a,b] for v in v_V for a in v_N for b in v_N]), 'cost'\n",
    "\n",
    "    # Constraints\n",
    "    # Location constraints\n",
    "    for a in v_N:\n",
    "        if a==0: # warehouse\n",
    "            prob += lpSum([x_vab[v,0,b] for v in v_V for b in v_N]) == lpSum([x_vab[v,b,0] for v in v_V for b in v_N])\n",
    "        else: # customers\n",
    "            prob += lpSum([x_vab[v,a,b] for v in v_V for b in v_N]) == 1\n",
    "            prob += lpSum([x_vab[v,b,a] for v in v_V for b in v_N]) == 1\n",
    "\n",
    "    # Vehicle constraints\n",
    "    for v in v_V:            \n",
    "        # load\n",
    "        prob += lpSum([x_vab[v,a,b]*(d[a]+d[b])/2 for a in v_N for b in v_N]) <= c\n",
    "        # start point\n",
    "        Assign = lpSum([x_vab[v,a,b] for a in v_N for b in v_N])\n",
    "        Fware = lpSum([x_vab[v,0,b] for b in v_N])\n",
    "        prob += (Assign-Fware) >= 0\n",
    "        prob += Assign <= (10000*Fware)\n",
    "\n",
    "    # Flow constraints\n",
    "    for a in v_N:\n",
    "        for v in v_V:\n",
    "            prob += lpSum([x_vab[v,a,b] for b in v_N]) == lpSum([x_vab[v,b,a] for b in v_N]) # flow\n",
    "            prob += x_vab[v,a,a] == 0 # no loop\n",
    "    \n",
    "    is_solved = prob.solve()==1\n",
    "    return x_vab, prob, is_solved"
   ]
  },
  {
   "cell_type": "code",
   "execution_count": 2,
   "metadata": {},
   "outputs": [],
   "source": [
    "# Function to extract results from the optimized solution\n",
    "def ExtractResult(prob):\n",
    "    lVehicleRoutes = [xvab.name for xvab in prob.variables() if xvab.varValue>0 and ('y' not in xvab.name)]\n",
    "    dfVehicleRoutes = pd.DataFrame(lVehicleRoutes, columns=['xvab'])\n",
    "    dfVehicleRoutes['v'] = dfVehicleRoutes['xvab'].replace('xvab_|_[0-9]+_[0-9]+','',regex=True)\n",
    "    \n",
    "    def StrToList(df):\n",
    "        seA = df['xvab'].replace('xvab_[0-9]+_|_[0-9]+$','',regex=True).astype(int)\n",
    "        seB = df['xvab'].replace('xvab_[0-9]+_[0-9]+_','',regex=True).astype(int)\n",
    "        return list(zip(seA,seB))\n",
    "    \n",
    "    return dfVehicleRoutes.groupby('v').apply(StrToList).rename('ab').reset_index()"
   ]
  },
  {
   "cell_type": "code",
   "execution_count": 3,
   "metadata": {},
   "outputs": [],
   "source": [
    "# Function to check and remove subtour once\n",
    "def CheckSubTour(prob, x_vab, V):\n",
    "    # lRoutes is a list of routes of each vehicle, like [[(0,2),(2,0),(3,4),(4,3)],[(0,1),(1,0)]]\n",
    "    lRoutes = ExtractResult(prob)['ab']\n",
    "    \n",
    "    is_subtour = False # reset subtour flag\n",
    "    is_solved = True\n",
    "    for lAB in lRoutes: \n",
    "        seRoute = pd.Series(lAB).copy()\n",
    "        # start from warehouse and follow the route.\n",
    "        # If the route hasn't been completed but the sequence is broken, there must be subtour.\n",
    "        s = 0\n",
    "        for k in range(len(lAB)):\n",
    "            indexStart = seRoute.apply(lambda l:l[0]==s)\n",
    "            if indexStart.any():\n",
    "                lCurrentRoute = seRoute[indexStart].iloc[0]\n",
    "                seRoute = seRoute[seRoute.apply(lambda l:l!=lCurrentRoute)]\n",
    "                s = lCurrentRoute[1]\n",
    "            else: # the remaining routes are subtour\n",
    "                is_subtour = True\n",
    "                print(f'subtour detected and removed:{seRoute.tolist()}')\n",
    "                # add subtour constraints for each vehicle\n",
    "                for v in range(V):\n",
    "                    prob += lpSum([x_vab[v,a,b] for a, b in seRoute.tolist()]) <= (len(seRoute)-1)\n",
    "                break;\n",
    "        if is_subtour:\n",
    "            is_solved = prob.solve()==1\n",
    "    return x_vab, prob, is_subtour, is_solved\n"
   ]
  },
  {
   "cell_type": "code",
   "execution_count": 4,
   "metadata": {},
   "outputs": [],
   "source": [
    "# Function to check and remove all subtours recursively\n",
    "def RemoveSubTours(prob, x_vab, V):\n",
    "    is_subtour = True\n",
    "    is_solved = True\n",
    "    while(is_subtour and is_solved):\n",
    "        x_vab, prob, is_subtour, is_solved = CheckSubTour(prob, x_vab, V)\n",
    "    return x_vab, prob, is_subtour, is_solved\n"
   ]
  },
  {
   "cell_type": "code",
   "execution_count": 5,
   "metadata": {},
   "outputs": [],
   "source": [
    "# Function sort the routes in sequence\n",
    "def SortRoute(lAB):\n",
    "    seRoute = pd.Series(lAB).copy()\n",
    "    s, route_sorted = 0, [0] # start from warehouse\n",
    "    for k in range(len(lAB)):\n",
    "        indexStart = seRoute.apply(lambda l:l[0]==s)\n",
    "        lCurrentRoute = seRoute[indexStart].iloc[0]\n",
    "        seRoute = seRoute[seRoute.apply(lambda l:l!=lCurrentRoute)]\n",
    "        s = lCurrentRoute[1]\n",
    "        route_sorted.append(s)\n",
    "\n",
    "    return route_sorted\n"
   ]
  },
  {
   "cell_type": "markdown",
   "metadata": {},
   "source": [
    "### Test Case: Sample Problem\n",
    "Finally, let's use the defined functions to solve the sample problem!\n",
    "<img src=\"images/sample VRP.jpg\">"
   ]
  },
  {
   "cell_type": "code",
   "execution_count": 6,
   "metadata": {},
   "outputs": [
    {
     "data": {
      "text/html": [
       "<div>\n",
       "<style scoped>\n",
       "    .dataframe tbody tr th:only-of-type {\n",
       "        vertical-align: middle;\n",
       "    }\n",
       "\n",
       "    .dataframe tbody tr th {\n",
       "        vertical-align: top;\n",
       "    }\n",
       "\n",
       "    .dataframe thead th {\n",
       "        text-align: right;\n",
       "    }\n",
       "</style>\n",
       "<table border=\"1\" class=\"dataframe\">\n",
       "  <thead>\n",
       "    <tr style=\"text-align: right;\">\n",
       "      <th></th>\n",
       "      <th>v</th>\n",
       "      <th>ab</th>\n",
       "      <th>route_sorted</th>\n",
       "    </tr>\n",
       "  </thead>\n",
       "  <tbody>\n",
       "    <tr>\n",
       "      <th>0</th>\n",
       "      <td>1</td>\n",
       "      <td>[(0, 2), (1, 0), (2, 1)]</td>\n",
       "      <td>[0, 2, 1, 0]</td>\n",
       "    </tr>\n",
       "    <tr>\n",
       "      <th>1</th>\n",
       "      <td>2</td>\n",
       "      <td>[(0, 3), (3, 4), (4, 0)]</td>\n",
       "      <td>[0, 3, 4, 0]</td>\n",
       "    </tr>\n",
       "  </tbody>\n",
       "</table>\n",
       "</div>"
      ],
      "text/plain": [
       "   v                        ab  route_sorted\n",
       "0  1  [(0, 2), (1, 0), (2, 1)]  [0, 2, 1, 0]\n",
       "1  2  [(0, 3), (3, 4), (4, 0)]  [0, 3, 4, 0]"
      ]
     },
     "metadata": {},
     "output_type": "display_data"
    },
    {
     "name": "stdout",
     "output_type": "stream",
     "text": [
      "Optimized cost = 68.2842712474619\n"
     ]
    }
   ],
   "source": [
    "dInputs = {'N':5, 'V':4, 'c':10,\n",
    "           'd':[0, 3,  3,  3,  3],\n",
    "           'x':[0, 0,-10,  0, 10],\n",
    "           'y':[0,10, 10,-10,-10]}\n",
    "\n",
    "x_vab, prob, is_solved = DefineSolveIP(**dInputs)\n",
    "if is_solved:\n",
    "    x_vab, prob, is_subtour, is_solved = RemoveSubTours(prob, x_vab, dInputs['V'])\n",
    "if is_solved:\n",
    "    dfVehicleRoutes = ExtractResult(prob)\n",
    "    dfVehicleRoutes['route_sorted'] = dfVehicleRoutes['ab'].apply(SortRoute)\n",
    "    display(dfVehicleRoutes)\n",
    "    print(f'Optimized cost = {value(prob.objective)}')\n",
    "else:\n",
    "    print('No feasible solution.')"
   ]
  },
  {
   "cell_type": "markdown",
   "metadata": {},
   "source": [
    "**Awesome!** The optimized solution has lower cost than the feasible solution in the figure above.\n",
    "\n",
    "<br>\n",
    "\n",
    "In the following sections, I will carry out more tests."
   ]
  },
  {
   "cell_type": "markdown",
   "metadata": {},
   "source": [
    "### Test Case: Sub-Tour Avoidance\n",
    "This is a simple test case with 1 vehicle visiting multiple locations.<br>\n",
    "The output displays that the algorithm managed to detect sub-tour from an \"optimal\" solution, and generate a true optimal solution with the sub-tour avoided."
   ]
  },
  {
   "cell_type": "code",
   "execution_count": 7,
   "metadata": {},
   "outputs": [
    {
     "name": "stdout",
     "output_type": "stream",
     "text": [
      "subtour detected and removed:[(2, 3), (3, 2)]\n"
     ]
    },
    {
     "data": {
      "text/html": [
       "<div>\n",
       "<style scoped>\n",
       "    .dataframe tbody tr th:only-of-type {\n",
       "        vertical-align: middle;\n",
       "    }\n",
       "\n",
       "    .dataframe tbody tr th {\n",
       "        vertical-align: top;\n",
       "    }\n",
       "\n",
       "    .dataframe thead th {\n",
       "        text-align: right;\n",
       "    }\n",
       "</style>\n",
       "<table border=\"1\" class=\"dataframe\">\n",
       "  <thead>\n",
       "    <tr style=\"text-align: right;\">\n",
       "      <th></th>\n",
       "      <th>v</th>\n",
       "      <th>ab</th>\n",
       "      <th>route_sorted</th>\n",
       "    </tr>\n",
       "  </thead>\n",
       "  <tbody>\n",
       "    <tr>\n",
       "      <th>0</th>\n",
       "      <td>0</td>\n",
       "      <td>[(0, 1), (1, 3), (2, 0), (3, 2)]</td>\n",
       "      <td>[0, 1, 3, 2, 0]</td>\n",
       "    </tr>\n",
       "  </tbody>\n",
       "</table>\n",
       "</div>"
      ],
      "text/plain": [
       "   v                                ab     route_sorted\n",
       "0  0  [(0, 1), (1, 3), (2, 0), (3, 2)]  [0, 1, 3, 2, 0]"
      ]
     },
     "metadata": {},
     "output_type": "display_data"
    },
    {
     "name": "stdout",
     "output_type": "stream",
     "text": [
      "Optimized cost = 52.3606797749979\n"
     ]
    }
   ],
   "source": [
    "dInputs = {'N':4, 'V':1, 'c':10,\n",
    "           'd':[0, 3, 3, 3],\n",
    "           'x':[0, 0,10,20],\n",
    "           'y':[0,10, 0, 0]}\n",
    "\n",
    "x_vab, prob, is_solved = DefineSolveIP(**dInputs)\n",
    "if is_solved:\n",
    "    x_vab, prob, is_subtour, is_solved = RemoveSubTours(prob, x_vab, dInputs['V'])\n",
    "if is_solved:\n",
    "    dfVehicleRoutes = ExtractResult(prob)\n",
    "    dfVehicleRoutes['route_sorted'] = dfVehicleRoutes['ab'].apply(SortRoute)\n",
    "    display(dfVehicleRoutes)\n",
    "    print(f'Optimized cost = {value(prob.objective)}')\n",
    "else:\n",
    "    print('No feasible solution.')"
   ]
  },
  {
   "cell_type": "markdown",
   "metadata": {},
   "source": [
    "### Test Case: Load Constraint\n",
    "In the test case, one vehicle cannot complete the task by visiting the warehouse only once.<br>\n",
    "It seems that $L_2$ and $L_3$ could form a sub-tour, while it will be limited by the load constraint, because the total load of a vehicle is NOT calculated for each sub-tour."
   ]
  },
  {
   "cell_type": "code",
   "execution_count": 8,
   "metadata": {},
   "outputs": [
    {
     "name": "stdout",
     "output_type": "stream",
     "text": [
      "No feasible solution.\n"
     ]
    }
   ],
   "source": [
    "dInputs = {'N':4, 'V':1, 'c':10,\n",
    "           'd':[0,10, 5, 5],\n",
    "           'x':[0, 0,10,20],\n",
    "           'y':[0,10, 0, 0]}\n",
    "\n",
    "x_vab, prob, is_solved = DefineSolveIP(**dInputs)\n",
    "if is_solved:\n",
    "    x_vab, prob, is_subtour, is_solved = RemoveSubTours(prob, x_vab, dInputs['V'])\n",
    "if is_solved:\n",
    "    dfVehicleRoutes = ExtractResult(prob)\n",
    "    dfVehicleRoutes['route_sorted'] = dfVehicleRoutes['ab'].apply(SortRoute)\n",
    "    display(dfVehicleRoutes)\n",
    "    print(f'Optimized cost = {value(prob.objective)}')\n",
    "else:\n",
    "    print('No feasible solution.')"
   ]
  },
  {
   "cell_type": "markdown",
   "metadata": {},
   "source": [
    "With 2 vehicles, we can complete the task:"
   ]
  },
  {
   "cell_type": "code",
   "execution_count": 9,
   "metadata": {},
   "outputs": [
    {
     "data": {
      "text/html": [
       "<div>\n",
       "<style scoped>\n",
       "    .dataframe tbody tr th:only-of-type {\n",
       "        vertical-align: middle;\n",
       "    }\n",
       "\n",
       "    .dataframe tbody tr th {\n",
       "        vertical-align: top;\n",
       "    }\n",
       "\n",
       "    .dataframe thead th {\n",
       "        text-align: right;\n",
       "    }\n",
       "</style>\n",
       "<table border=\"1\" class=\"dataframe\">\n",
       "  <thead>\n",
       "    <tr style=\"text-align: right;\">\n",
       "      <th></th>\n",
       "      <th>v</th>\n",
       "      <th>ab</th>\n",
       "      <th>route_sorted</th>\n",
       "    </tr>\n",
       "  </thead>\n",
       "  <tbody>\n",
       "    <tr>\n",
       "      <th>0</th>\n",
       "      <td>0</td>\n",
       "      <td>[(0, 2), (2, 3), (3, 0)]</td>\n",
       "      <td>[0, 2, 3, 0]</td>\n",
       "    </tr>\n",
       "    <tr>\n",
       "      <th>1</th>\n",
       "      <td>1</td>\n",
       "      <td>[(0, 1), (1, 0)]</td>\n",
       "      <td>[0, 1, 0]</td>\n",
       "    </tr>\n",
       "  </tbody>\n",
       "</table>\n",
       "</div>"
      ],
      "text/plain": [
       "   v                        ab  route_sorted\n",
       "0  0  [(0, 2), (2, 3), (3, 0)]  [0, 2, 3, 0]\n",
       "1  1          [(0, 1), (1, 0)]     [0, 1, 0]"
      ]
     },
     "metadata": {},
     "output_type": "display_data"
    },
    {
     "name": "stdout",
     "output_type": "stream",
     "text": [
      "Optimized cost = 60.0\n"
     ]
    }
   ],
   "source": [
    "dInputs = {'N':4, 'V':2, 'c':10,\n",
    "           'd':[0,10, 5, 5],\n",
    "           'x':[0, 0,10,20],\n",
    "           'y':[0,10, 0, 0]}\n",
    "\n",
    "x_vab, prob, is_solved = DefineSolveIP(**dInputs)\n",
    "if is_solved:\n",
    "    x_vab, prob, is_subtour, is_solved = RemoveSubTours(prob, x_vab, dInputs['V'])\n",
    "if is_solved:\n",
    "    dfVehicleRoutes = ExtractResult(prob)\n",
    "    dfVehicleRoutes['route_sorted'] = dfVehicleRoutes['ab'].apply(SortRoute)\n",
    "    display(dfVehicleRoutes)\n",
    "    print(f'Optimized cost = {value(prob.objective)}')\n",
    "else:\n",
    "    print('No feasible solution.')"
   ]
  },
  {
   "cell_type": "code",
   "execution_count": null,
   "metadata": {},
   "outputs": [],
   "source": []
  }
 ],
 "metadata": {
  "kernelspec": {
   "display_name": "Python 3",
   "language": "python",
   "name": "python3"
  },
  "language_info": {
   "codemirror_mode": {
    "name": "ipython",
    "version": 3
   },
   "file_extension": ".py",
   "mimetype": "text/x-python",
   "name": "python",
   "nbconvert_exporter": "python",
   "pygments_lexer": "ipython3",
   "version": "3.7.6"
  }
 },
 "nbformat": 4,
 "nbformat_minor": 4
}
