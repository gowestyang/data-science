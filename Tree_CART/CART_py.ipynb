{
 "cells": [
  {
   "cell_type": "markdown",
   "metadata": {},
   "source": [
    "# Classification And Regression Tree (Python)\n",
    "Yang Xi <br>\n",
    "15 Nov, 2018\n",
    "\n",
    "\n",
    "<br>\n",
    "\n",
    "- Example: Classification with Imbalanced Class\n",
    "\t- Tune `max_depth` Through Cross-Validation\n",
    "\t- Model Interpretation: Tree Plot\n",
    "\t- Train Performance\n",
    "\t- Test Performance"
   ]
  },
  {
   "cell_type": "markdown",
   "metadata": {},
   "source": [
    "# Example: Classification with Imbalanced Class"
   ]
  },
  {
   "cell_type": "code",
   "execution_count": 1,
   "metadata": {},
   "outputs": [],
   "source": [
    "import numpy as np\n",
    "import pandas as pd\n",
    "import matplotlib.pyplot as plt\n",
    "\n",
    "from sklearn.tree import DecisionTreeClassifier\n",
    "from sklearn.model_selection import GridSearchCV\n",
    "from sklearn.metrics.scorer import make_scorer\n",
    "from sklearn.metrics import confusion_matrix, f1_score, roc_auc_score\n",
    "\n",
    "dfTrain0 = pd.read_csv(\"../../data/(2016 UCI) Credit Default/data_train.csv\")\n",
    "dfTest0 = pd.read_csv(\"../../data/(2016 UCI) Credit Default/data_test.csv\")\n",
    "\n",
    "def prepTrainTest(df):\n",
    "    df = pd.get_dummies(df, columns=['Default', 'Sex', 'Marriage'], drop_first=True)\n",
    "    df = pd.get_dummies(df, columns=['Education', 'SepRepayment']).drop(['Education_high school', 'SepRepayment_paid'], axis=1)\n",
    "    return df\n",
    "dfTrain = prepTrainTest(dfTrain0)\n",
    "XTrain = dfTrain.drop('Default_1',axis=1)\n",
    "\n",
    "yTrain = dfTrain['Default_1']"
   ]
  },
  {
   "cell_type": "markdown",
   "metadata": {},
   "source": [
    "### Tune `max_depth` Through Cross-Validation\n",
    "To see progress, set `verbose=2`"
   ]
  },
  {
   "cell_type": "code",
   "execution_count": 2,
   "metadata": {},
   "outputs": [
    {
     "name": "stdout",
     "output_type": "stream",
     "text": [
      "Optimal max_depth value = 2\n",
      "CV f1 score with optimal max_depth value = 0.515\n"
     ]
    },
    {
     "data": {
      "image/png": "[encoded data removed]",
      "text/plain": [
       "<Figure size 432x288 with 1 Axes>"
      ]
     },
     "metadata": {
      "needs_background": "light"
     },
     "output_type": "display_data"
    }
   ],
   "source": [
    "rangeMaxDepth = np.arange(1, 5, 1).tolist()\n",
    "cartGS = GridSearchCV(DecisionTreeClassifier(class_weight='balanced'),\n",
    "                      param_grid = [{'max_depth': rangeMaxDepth}],\n",
    "                      scoring = make_scorer(f1_score, greater_is_better=True),\n",
    "                      cv=10, verbose=0)\n",
    "cartGS.fit(XTrain, yTrain)\n",
    "\n",
    "plt.plot(rangeMaxDepth, cartGS.cv_results_['mean_test_score'])\n",
    "print('Optimal max_depth value = {0}'.format(cartGS.best_params_['max_depth']))\n",
    "print('CV f1 score with optimal max_depth value = {0:.3f}'.format(cartGS.best_score_))"
   ]
  },
  {
   "cell_type": "markdown",
   "metadata": {},
   "source": [
    "### Model Interpretation: Tree Plot"
   ]
  },
  {
   "cell_type": "code",
   "execution_count": 3,
   "metadata": {},
   "outputs": [
    {
     "data": {
      "image/svg+xml": [
       "<?xml version=\"1.0\" encoding=\"UTF-8\" standalone=\"no\"?>\r\n",
       "<!DOCTYPE svg PUBLIC \"-//W3C//DTD SVG 1.1//EN\"\r\n",
       " \"http://www.w3.org/Graphics/SVG/1.1/DTD/svg11.dtd\">\r\n",
       "<!-- Generated by graphviz version 2.38.0 (20140413.2041)\r\n",
       " -->\r\n",
       "<!-- Title: Tree Pages: 1 -->\r\n",
       "<svg width=\"696pt\" height=\"269pt\"\r\n",
       " viewBox=\"0.00 0.00 696.00 269.00\" xmlns=\"http://www.w3.org/2000/svg\" xmlns:xlink=\"http://www.w3.org/1999/xlink\">\r\n",
       "<g id=\"graph0\" class=\"graph\" transform=\"scale(1 1) rotate(0) translate(4 265)\">\r\n",
       "<title>Tree</title>\r\n",
       "<polygon fill=\"white\" stroke=\"none\" points=\"-4,4 -4,-265 692,-265 692,4 -4,4\"/>\r\n",
       "<!-- 0 -->\r\n",
       "<g id=\"node1\" class=\"node\"><title>0</title>\r\n",
       "<path fill=\"none\" stroke=\"black\" d=\"M449,-261C449,-261 239,-261 239,-261 233,-261 227,-255 227,-249 227,-249 227,-205 227,-205 227,-199 233,-193 239,-193 239,-193 449,-193 449,-193 455,-193 461,-199 461,-205 461,-205 461,-249 461,-249 461,-255 455,-261 449,-261\"/>\r\n",
       "<text text-anchor=\"middle\" x=\"344\" y=\"-245.8\" font-family=\"Helvetica,sans-Serif\" font-size=\"14.00\">SepRepayment_2m+ delay &lt;= 0.5</text>\r\n",
       "<text text-anchor=\"middle\" x=\"344\" y=\"-230.8\" font-family=\"Helvetica,sans-Serif\" font-size=\"14.00\">samples = 100.0%</text>\r\n",
       "<text text-anchor=\"middle\" x=\"344\" y=\"-215.8\" font-family=\"Helvetica,sans-Serif\" font-size=\"14.00\">value = [0.5, 0.5]</text>\r\n",
       "<text text-anchor=\"middle\" x=\"344\" y=\"-200.8\" font-family=\"Helvetica,sans-Serif\" font-size=\"14.00\">class = 1</text>\r\n",
       "</g>\r\n",
       "<!-- 1 -->\r\n",
       "<g id=\"node2\" class=\"node\"><title>1</title>\r\n",
       "<path fill=\"#e58139\" fill-opacity=\"0.305882\" stroke=\"black\" d=\"M341,-157C341,-157 139,-157 139,-157 133,-157 127,-151 127,-145 127,-145 127,-101 127,-101 127,-95 133,-89 139,-89 139,-89 341,-89 341,-89 347,-89 353,-95 353,-101 353,-101 353,-145 353,-145 353,-151 347,-157 341,-157\"/>\r\n",
       "<text text-anchor=\"middle\" x=\"240\" y=\"-141.8\" font-family=\"Helvetica,sans-Serif\" font-size=\"14.00\">SepRepayment_1m delay &lt;= 0.5</text>\r\n",
       "<text text-anchor=\"middle\" x=\"240\" y=\"-126.8\" font-family=\"Helvetica,sans-Serif\" font-size=\"14.00\">samples = 89.4%</text>\r\n",
       "<text text-anchor=\"middle\" x=\"240\" y=\"-111.8\" font-family=\"Helvetica,sans-Serif\" font-size=\"14.00\">value = [0.59, 0.41]</text>\r\n",
       "<text text-anchor=\"middle\" x=\"240\" y=\"-96.8\" font-family=\"Helvetica,sans-Serif\" font-size=\"14.00\">class = 0</text>\r\n",
       "</g>\r\n",
       "<!-- 0&#45;&gt;1 -->\r\n",
       "<g id=\"edge1\" class=\"edge\"><title>0&#45;&gt;1</title>\r\n",
       "<path fill=\"none\" stroke=\"black\" d=\"M310.234,-192.884C300.971,-183.798 290.823,-173.845 281.193,-164.4\"/>\r\n",
       "<polygon fill=\"black\" stroke=\"black\" points=\"283.542,-161.803 273.952,-157.299 278.641,-166.8 283.542,-161.803\"/>\r\n",
       "<text text-anchor=\"middle\" x=\"274.195\" y=\"-178.598\" font-family=\"Helvetica,sans-Serif\" font-size=\"14.00\">True</text>\r\n",
       "</g>\r\n",
       "<!-- 4 -->\r\n",
       "<g id=\"node5\" class=\"node\"><title>4</title>\r\n",
       "<path fill=\"#399de5\" fill-opacity=\"0.878431\" stroke=\"black\" d=\"M513,-157C513,-157 383,-157 383,-157 377,-157 371,-151 371,-145 371,-145 371,-101 371,-101 371,-95 377,-89 383,-89 383,-89 513,-89 513,-89 519,-89 525,-95 525,-101 525,-101 525,-145 525,-145 525,-151 519,-157 513,-157\"/>\r\n",
       "<text text-anchor=\"middle\" x=\"448\" y=\"-141.8\" font-family=\"Helvetica,sans-Serif\" font-size=\"14.00\">SepBill &lt;= 577.0</text>\r\n",
       "<text text-anchor=\"middle\" x=\"448\" y=\"-126.8\" font-family=\"Helvetica,sans-Serif\" font-size=\"14.00\">samples = 10.6%</text>\r\n",
       "<text text-anchor=\"middle\" x=\"448\" y=\"-111.8\" font-family=\"Helvetica,sans-Serif\" font-size=\"14.00\">value = [0.109, 0.891]</text>\r\n",
       "<text text-anchor=\"middle\" x=\"448\" y=\"-96.8\" font-family=\"Helvetica,sans-Serif\" font-size=\"14.00\">class = 1</text>\r\n",
       "</g>\r\n",
       "<!-- 0&#45;&gt;4 -->\r\n",
       "<g id=\"edge4\" class=\"edge\"><title>0&#45;&gt;4</title>\r\n",
       "<path fill=\"none\" stroke=\"black\" d=\"M377.766,-192.884C387.029,-183.798 397.177,-173.845 406.807,-164.4\"/>\r\n",
       "<polygon fill=\"black\" stroke=\"black\" points=\"409.359,-166.8 414.048,-157.299 404.458,-161.803 409.359,-166.8\"/>\r\n",
       "<text text-anchor=\"middle\" x=\"413.805\" y=\"-178.598\" font-family=\"Helvetica,sans-Serif\" font-size=\"14.00\">False</text>\r\n",
       "</g>\r\n",
       "<!-- 2 -->\r\n",
       "<g id=\"node3\" class=\"node\"><title>2</title>\r\n",
       "<path fill=\"#e58139\" fill-opacity=\"0.439216\" stroke=\"black\" d=\"M142,-53C142,-53 12,-53 12,-53 6,-53 0,-47 0,-41 0,-41 0,-12 0,-12 0,-6 6,-0 12,-0 12,-0 142,-0 142,-0 148,-0 154,-6 154,-12 154,-12 154,-41 154,-41 154,-47 148,-53 142,-53\"/>\r\n",
       "<text text-anchor=\"middle\" x=\"77\" y=\"-37.8\" font-family=\"Helvetica,sans-Serif\" font-size=\"14.00\">samples = 77.1%</text>\r\n",
       "<text text-anchor=\"middle\" x=\"77\" y=\"-22.8\" font-family=\"Helvetica,sans-Serif\" font-size=\"14.00\">value = [0.641, 0.359]</text>\r\n",
       "<text text-anchor=\"middle\" x=\"77\" y=\"-7.8\" font-family=\"Helvetica,sans-Serif\" font-size=\"14.00\">class = 0</text>\r\n",
       "</g>\r\n",
       "<!-- 1&#45;&gt;2 -->\r\n",
       "<g id=\"edge2\" class=\"edge\"><title>1&#45;&gt;2</title>\r\n",
       "<path fill=\"none\" stroke=\"black\" d=\"M182.991,-88.9485C165.713,-78.9318 146.817,-67.9767 129.826,-58.1263\"/>\r\n",
       "<polygon fill=\"black\" stroke=\"black\" points=\"131.54,-55.0744 121.134,-53.0867 128.029,-61.1303 131.54,-55.0744\"/>\r\n",
       "</g>\r\n",
       "<!-- 3 -->\r\n",
       "<g id=\"node4\" class=\"node\"><title>3</title>\r\n",
       "<path fill=\"#399de5\" fill-opacity=\"0.450980\" stroke=\"black\" d=\"M314,-53C314,-53 184,-53 184,-53 178,-53 172,-47 172,-41 172,-41 172,-12 172,-12 172,-6 178,-0 184,-0 184,-0 314,-0 314,-0 320,-0 326,-6 326,-12 326,-12 326,-41 326,-41 326,-47 320,-53 314,-53\"/>\r\n",
       "<text text-anchor=\"middle\" x=\"249\" y=\"-37.8\" font-family=\"Helvetica,sans-Serif\" font-size=\"14.00\">samples = 12.3%</text>\r\n",
       "<text text-anchor=\"middle\" x=\"249\" y=\"-22.8\" font-family=\"Helvetica,sans-Serif\" font-size=\"14.00\">value = [0.355, 0.645]</text>\r\n",
       "<text text-anchor=\"middle\" x=\"249\" y=\"-7.8\" font-family=\"Helvetica,sans-Serif\" font-size=\"14.00\">class = 1</text>\r\n",
       "</g>\r\n",
       "<!-- 1&#45;&gt;3 -->\r\n",
       "<g id=\"edge3\" class=\"edge\"><title>1&#45;&gt;3</title>\r\n",
       "<path fill=\"none\" stroke=\"black\" d=\"M243.148,-88.9485C243.941,-80.6238 244.795,-71.6509 245.6,-63.2027\"/>\r\n",
       "<polygon fill=\"black\" stroke=\"black\" points=\"249.085,-63.5235 246.549,-53.2367 242.116,-62.8598 249.085,-63.5235\"/>\r\n",
       "</g>\r\n",
       "<!-- 5 -->\r\n",
       "<g id=\"node6\" class=\"node\"><title>5</title>\r\n",
       "<path fill=\"#399de5\" fill-opacity=\"0.568627\" stroke=\"black\" d=\"M504,-53C504,-53 374,-53 374,-53 368,-53 362,-47 362,-41 362,-41 362,-12 362,-12 362,-6 368,-0 374,-0 374,-0 504,-0 504,-0 510,-0 516,-6 516,-12 516,-12 516,-41 516,-41 516,-47 510,-53 504,-53\"/>\r\n",
       "<text text-anchor=\"middle\" x=\"439\" y=\"-37.8\" font-family=\"Helvetica,sans-Serif\" font-size=\"14.00\">samples = 0.3%</text>\r\n",
       "<text text-anchor=\"middle\" x=\"439\" y=\"-22.8\" font-family=\"Helvetica,sans-Serif\" font-size=\"14.00\">value = [0.301, 0.699]</text>\r\n",
       "<text text-anchor=\"middle\" x=\"439\" y=\"-7.8\" font-family=\"Helvetica,sans-Serif\" font-size=\"14.00\">class = 1</text>\r\n",
       "</g>\r\n",
       "<!-- 4&#45;&gt;5 -->\r\n",
       "<g id=\"edge5\" class=\"edge\"><title>4&#45;&gt;5</title>\r\n",
       "<path fill=\"none\" stroke=\"black\" d=\"M444.852,-88.9485C444.059,-80.6238 443.205,-71.6509 442.4,-63.2027\"/>\r\n",
       "<polygon fill=\"black\" stroke=\"black\" points=\"445.884,-62.8598 441.451,-53.2367 438.915,-63.5235 445.884,-62.8598\"/>\r\n",
       "</g>\r\n",
       "<!-- 6 -->\r\n",
       "<g id=\"node7\" class=\"node\"><title>6</title>\r\n",
       "<path fill=\"#399de5\" fill-opacity=\"0.882353\" stroke=\"black\" d=\"M676,-53C676,-53 546,-53 546,-53 540,-53 534,-47 534,-41 534,-41 534,-12 534,-12 534,-6 540,-0 546,-0 546,-0 676,-0 676,-0 682,-0 688,-6 688,-12 688,-12 688,-41 688,-41 688,-47 682,-53 676,-53\"/>\r\n",
       "<text text-anchor=\"middle\" x=\"611\" y=\"-37.8\" font-family=\"Helvetica,sans-Serif\" font-size=\"14.00\">samples = 10.2%</text>\r\n",
       "<text text-anchor=\"middle\" x=\"611\" y=\"-22.8\" font-family=\"Helvetica,sans-Serif\" font-size=\"14.00\">value = [0.104, 0.896]</text>\r\n",
       "<text text-anchor=\"middle\" x=\"611\" y=\"-7.8\" font-family=\"Helvetica,sans-Serif\" font-size=\"14.00\">class = 1</text>\r\n",
       "</g>\r\n",
       "<!-- 4&#45;&gt;6 -->\r\n",
       "<g id=\"edge6\" class=\"edge\"><title>4&#45;&gt;6</title>\r\n",
       "<path fill=\"none\" stroke=\"black\" d=\"M505.009,-88.9485C522.287,-78.9318 541.183,-67.9767 558.174,-58.1263\"/>\r\n",
       "<polygon fill=\"black\" stroke=\"black\" points=\"559.971,-61.1303 566.866,-53.0867 556.46,-55.0744 559.971,-61.1303\"/>\r\n",
       "</g>\r\n",
       "</g>\r\n",
       "</svg>\r\n"
      ],
      "text/plain": [
       "<graphviz.files.Source at 0x146c68ac2e8>"
      ]
     },
     "execution_count": 3,
     "metadata": {},
     "output_type": "execute_result"
    }
   ],
   "source": [
    "from sklearn.tree import export_graphviz\n",
    "import graphviz\n",
    "\n",
    "cartFit = cartGS.best_estimator_\n",
    "\n",
    "cartPlot = export_graphviz(cartFit, out_file=None,\n",
    "                           feature_names=XTrain.columns,\n",
    "                           class_names=[\"0\", \"1\"],\n",
    "                           filled=True, rounded=True,\n",
    "                           impurity=False, proportion=True)\n",
    "graphviz.Source(cartPlot) # this displays in IDE but not in html\n",
    "\n",
    "# Code below are for proper displaying in html rander by markdown\n",
    "#import pydotplus\n",
    "#from IPython.display import Image\n",
    "#pydot_graph = pydotplus.graph_from_dot_data(cartPlot)\n",
    "#display(Image(pydot_graph.create_png()))"
   ]
  },
  {
   "cell_type": "markdown",
   "metadata": {},
   "source": [
    "### Train Performance"
   ]
  },
  {
   "cell_type": "code",
   "execution_count": 4,
   "metadata": {},
   "outputs": [
    {
     "name": "stdout",
     "output_type": "stream",
     "text": [
      "      F1    AUC\n",
      "0  0.515  0.702\n"
     ]
    }
   ],
   "source": [
    "probTrain = [x[1] for x in cartFit.predict_proba(XTrain)]\n",
    "predTrain = cartFit.predict(XTrain)\n",
    "\n",
    "cmTrain = pd.DataFrame(confusion_matrix(yTrain, predTrain))\n",
    "cmTrain.columns = pd.Series(cmTrain.columns).apply(lambda s: 'pred'+str(s))\n",
    "cmTrain.index = pd.Series(cmTrain.index).apply(lambda s: 'actual'+str(s))\n",
    "cmTrain\n",
    "\n",
    "perfTrain = pd.DataFrame({'F1':[round(f1_score(yTrain, predTrain), 3)],\n",
    "                          'AUC':[round(roc_auc_score(yTrain, probTrain),3)]})\n",
    "print(perfTrain)\n"
   ]
  },
  {
   "cell_type": "markdown",
   "metadata": {},
   "source": [
    "### Test Performance"
   ]
  },
  {
   "cell_type": "code",
   "execution_count": 5,
   "metadata": {},
   "outputs": [
    {
     "name": "stdout",
     "output_type": "stream",
     "text": [
      "Test f1 score = 0.504\n"
     ]
    }
   ],
   "source": [
    "\n",
    "dfTest = prepTrainTest(dfTest0)\n",
    "XTest = dfTest.drop('Default_1',axis=1)\n",
    "yTest = dfTest['Default_1']\n",
    "    \n",
    "predTest = cartFit.predict(XTest)\n",
    "\n",
    "cmTest = pd.DataFrame(confusion_matrix(yTest, predTest))\n",
    "cmTest.columns = pd.Series(cmTest.columns).apply(lambda s: 'pred'+str(s))\n",
    "cmTest.index = pd.Series(cmTest.index).apply(lambda s: 'actual'+str(s))\n",
    "cmTest\n",
    "\n",
    "f1Test = f1_score(yTest, predTest)\n",
    "print('Test f1 score = {0:.3f}'.format(f1Test))"
   ]
  },
  {
   "cell_type": "code",
   "execution_count": null,
   "metadata": {},
   "outputs": [],
   "source": []
  }
 ],
 "metadata": {
  "kernelspec": {
   "display_name": "Python 3",
   "language": "python",
   "name": "python3"
  },
  "language_info": {
   "codemirror_mode": {
    "name": "ipython",
    "version": 3
   },
   "file_extension": ".py",
   "mimetype": "text/x-python",
   "name": "python",
   "nbconvert_exporter": "python",
   "pygments_lexer": "ipython3",
   "version": "3.7.0"
  }
 },
 "nbformat": 4,
 "nbformat_minor": 2
}
