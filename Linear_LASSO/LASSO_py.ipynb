{
 "cells": [
  {
   "cell_type": "markdown",
   "metadata": {},
   "source": [
    "# LASSO (Python)\n",
    "Yang Xi <br>\n",
    "14 Nov, 2018"
   ]
  },
  {
   "cell_type": "markdown",
   "metadata": {},
   "source": [
    "# Example: Classification\n",
    "**Notes:**\n",
    "- In `sklearn.linear_model.LogisticRegression`, `C` is the inverse of regularization strength.<br>\n",
    "- `Lasso` and `LassoCV` are not used, because they don't support sample/class weights\n",
    "- We will use `GridSearchCV` with F1 score and balanced class weights"
   ]
  },
  {
   "cell_type": "code",
   "execution_count": 1,
   "metadata": {},
   "outputs": [],
   "source": [
    "import numpy as np\n",
    "import pandas as pd\n",
    "import matplotlib.pyplot as plt\n",
    "\n",
    "from sklearn.preprocessing import StandardScaler\n",
    "from sklearn.linear_model import LogisticRegression\n",
    "from sklearn.model_selection import GridSearchCV\n",
    "from sklearn.metrics.scorer import make_scorer\n",
    "from sklearn.metrics import confusion_matrix, f1_score, roc_auc_score\n",
    "\n",
    "dfTrain0 = pd.read_csv(\"../../data/(2016 UCI) Credit Default/data_train.csv\")\n",
    "dfTest0 = pd.read_csv(\"../../data/(2016 UCI) Credit Default/data_test.csv\")\n",
    "\n",
    "def prepTrainTest(df):\n",
    "    df = pd.get_dummies(df, columns=['Default', 'Sex', 'Marriage'], drop_first=True)\n",
    "    df = pd.get_dummies(df, columns=['Education', 'SepRepayment']).drop(['Education_high school', 'SepRepayment_paid'], axis=1)\n",
    "    return df\n",
    "dfTrain = prepTrainTest(dfTrain0)\n",
    "XTrain0 = dfTrain.drop('Default_1',axis=1)\n",
    "\n",
    "scalerTrain = StandardScaler().fit(XTrain0)\n",
    "XTrain = scalerTrain.transform(XTrain0)\n",
    "\n",
    "yTrain = dfTrain['Default_1']"
   ]
  },
  {
   "cell_type": "markdown",
   "metadata": {},
   "source": [
    "### Tune optimal `C` through cross-validation\n",
    "To see progress, set `verbose=2`"
   ]
  },
  {
   "cell_type": "code",
   "execution_count": 2,
   "metadata": {},
   "outputs": [
    {
     "name": "stdout",
     "output_type": "stream",
     "text": [
      "Optimal C value = 0.014\n",
      "CV f1 score with optimal C value = 0.518\n"
     ]
    },
    {
     "data": {
      "image/png": "[encoded data removed]",
      "text/plain": [
       "<Figure size 432x288 with 1 Axes>"
      ]
     },
     "metadata": {
      "needs_background": "light"
     },
     "output_type": "display_data"
    }
   ],
   "source": [
    "rangeC = np.arange(0.001, 0.02, 0.001).tolist()\n",
    "lassoGS = GridSearchCV(LogisticRegression(penalty='l1', class_weight='balanced'),\n",
    "                       param_grid = [{'C' : rangeC}],\n",
    "                       scoring = make_scorer(f1_score, greater_is_better=True),\n",
    "                       cv=10, verbose=0)\n",
    "lassoGS.fit(XTrain, yTrain)\n",
    "\n",
    "plt.plot(rangeC, lassoGS.cv_results_['mean_test_score'])\n",
    "print('Optimal C value = {0:.3f}'.format(lassoGS.best_params_['C']))\n",
    "print('CV f1 score with optimal C value = {0:.3f}'.format(lassoGS.best_score_))"
   ]
  },
  {
   "cell_type": "markdown",
   "metadata": {},
   "source": [
    "### Model Interpretation\n",
    "**Note:** the default coefficients values are fitted to predictors after standardization"
   ]
  },
  {
   "cell_type": "code",
   "execution_count": 3,
   "metadata": {},
   "outputs": [
    {
     "name": "stdout",
     "output_type": "stream",
     "text": [
      "intercept = -0.170\n",
      "                            coef\n",
      "CreditLimit            -0.240704\n",
      "Age                     0.029909\n",
      "SepBill                 0.000000\n",
      "AugBill                 0.005790\n",
      "SepPay                 -0.122660\n",
      "AugPay                 -0.117560\n",
      "Sex_M                   0.060993\n",
      "Marriage_single        -0.068700\n",
      "Education_graduate      0.000000\n",
      "Education_university    0.000000\n",
      "SepRepayment_1m delay   0.345389\n",
      "SepRepayment_2m+ delay  0.767396\n"
     ]
    }
   ],
   "source": [
    "lassoFit = lassoGS.best_estimator_\n",
    "print('intercept = {0:.3f}'.format(lassoFit.intercept_[0]))\n",
    "print(pd.DataFrame(lassoFit.coef_.T, index=XTrain0.columns, columns=['coef']))"
   ]
  },
  {
   "cell_type": "markdown",
   "metadata": {},
   "source": [
    "Restore the intercept and coefficient values to original scale for interpretation"
   ]
  },
  {
   "cell_type": "code",
   "execution_count": 4,
   "metadata": {},
   "outputs": [
    {
     "name": "stdout",
     "output_type": "stream",
     "text": [
      "orignal intercept = -0.273\n",
      "                                coef\n",
      "CreditLimit            -1.851516e-06\n",
      "Age                     3.260531e-03\n",
      "SepBill                 0.000000e+00\n",
      "AugBill                 8.115462e-08\n",
      "SepPay                 -7.730053e-06\n",
      "AugPay                 -5.065440e-06\n",
      "Sex_M                   1.245109e-01\n",
      "Marriage_single        -1.378599e-01\n",
      "Education_graduate      0.000000e+00\n",
      "Education_university    0.000000e+00\n",
      "SepRepayment_1m delay   1.050488e+00\n",
      "SepRepayment_2m+ delay  2.496956e+00\n"
     ]
    }
   ],
   "source": [
    "orginCoef = lassoFit.coef_ / scalerTrain.scale_\n",
    "orginIntercept = lassoFit.intercept_ - np.dot(orginCoef, scalerTrain.mean_)\n",
    "print('orignal intercept = {0:.3f}'.format(orginIntercept[0]))\n",
    "print(pd.DataFrame(orginCoef.T, index=XTrain0.columns, columns=['coef']))"
   ]
  },
  {
   "cell_type": "markdown",
   "metadata": {},
   "source": [
    "### Train Performance"
   ]
  },
  {
   "cell_type": "code",
   "execution_count": 5,
   "metadata": {},
   "outputs": [
    {
     "name": "stdout",
     "output_type": "stream",
     "text": [
      "      F1    AUC\n",
      "0  0.517  0.747\n"
     ]
    }
   ],
   "source": [
    "probTrain = [x[1] for x in lassoFit.predict_proba(XTrain)]\n",
    "predTrain = lassoFit.predict(XTrain)\n",
    "\n",
    "cmTrain = pd.DataFrame(confusion_matrix(yTrain, predTrain))\n",
    "cmTrain.columns = pd.Series(cmTrain.columns).apply(lambda s: 'pred'+str(s))\n",
    "cmTrain.index = pd.Series(cmTrain.index).apply(lambda s: 'actual'+str(s))\n",
    "cmTrain\n",
    "\n",
    "perfTrain = pd.DataFrame({'F1':[round(f1_score(yTrain, predTrain), 3)],\n",
    "                          'AUC':[round(roc_auc_score(yTrain, probTrain),3)]})\n",
    "print(perfTrain)"
   ]
  },
  {
   "cell_type": "markdown",
   "metadata": {},
   "source": [
    "### Test performance"
   ]
  },
  {
   "cell_type": "code",
   "execution_count": 6,
   "metadata": {},
   "outputs": [
    {
     "name": "stdout",
     "output_type": "stream",
     "text": [
      "Test f1 score = 0.508\n"
     ]
    }
   ],
   "source": [
    "dfTest = prepTrainTest(dfTest0)\n",
    "XTest = scalerTrain.transform(dfTest.drop('Default_1',axis=1))\n",
    "yTest = dfTest['Default_1']\n",
    "    \n",
    "predTest = lassoFit.predict(XTest)\n",
    "\n",
    "cmTest = pd.DataFrame(confusion_matrix(yTest, predTest))\n",
    "cmTest.columns = pd.Series(cmTest.columns).apply(lambda s: 'pred'+str(s))\n",
    "cmTest.index = pd.Series(cmTest.index).apply(lambda s: 'actual'+str(s))\n",
    "cmTest\n",
    "\n",
    "f1Test = f1_score(yTest, predTest)\n",
    "print('Test f1 score = {0:.3f}'.format(f1Test))\n"
   ]
  },
  {
   "cell_type": "code",
   "execution_count": null,
   "metadata": {},
   "outputs": [],
   "source": []
  }
 ],
 "metadata": {
  "kernelspec": {
   "display_name": "Python 3",
   "language": "python",
   "name": "python3"
  },
  "language_info": {
   "codemirror_mode": {
    "name": "ipython",
    "version": 3
   },
   "file_extension": ".py",
   "mimetype": "text/x-python",
   "name": "python",
   "nbconvert_exporter": "python",
   "pygments_lexer": "ipython3",
   "version": "3.7.0"
  }
 },
 "nbformat": 4,
 "nbformat_minor": 2
}
