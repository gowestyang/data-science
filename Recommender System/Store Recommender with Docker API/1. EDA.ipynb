{
 "cells": [
  {
   "cell_type": "markdown",
   "metadata": {},
   "source": [
    "Environment Information:\n",
    "* Win10 x64\n",
    "* Python 3.8.8\n",
    "* `pandas==1.3.2`\n",
    "* `fastparquet==0.7.1`\n",
    "* `matplotlib==3.3.4`"
   ]
  },
  {
   "cell_type": "markdown",
   "metadata": {},
   "source": [
    "# Load Data and Preliminary Exploration"
   ]
  },
  {
   "cell_type": "code",
   "execution_count": 1,
   "metadata": {},
   "outputs": [],
   "source": [
    "import pandas as pd\n",
    "\n",
    "def CheckMissingValues(df):\n",
    "    for col in df.columns:\n",
    "        nNull = ((df[col]=='') | df[col].isnull()).sum()\n",
    "        if nNull > 0:\n",
    "            print(f\"WARNING: column {col} contains {nNull} missing values.\")"
   ]
  },
  {
   "cell_type": "code",
   "execution_count": 2,
   "metadata": {},
   "outputs": [
    {
     "name": "stdout",
     "output_type": "stream",
     "text": [
      "Clicks data contains 1846145 rows from 103806 users, 403 stores, 55 channels over 2021-01-01 00:00:15 to 2021-03-31 00:00:00\n",
      "There are 8 devices, such as ['app_android', 'app_ios', 'desktop', 'extension', 'mobile_android']\n",
      "There are 4 platforms, such as ['Android App', 'iOS App', 'Web', 'Browser Extension']\n",
      "There are 55 channels, such as ['paid_ins_organic', 'Direct', 'Extension', 'Paid Search', 'Display']\n",
      "WARNING: column device contains 354 missing values.\n",
      "WARNING: column channel contains 354 missing values.\n"
     ]
    },
    {
     "data": {
      "text/html": [
       "<div>\n",
       "<style scoped>\n",
       "    .dataframe tbody tr th:only-of-type {\n",
       "        vertical-align: middle;\n",
       "    }\n",
       "\n",
       "    .dataframe tbody tr th {\n",
       "        vertical-align: top;\n",
       "    }\n",
       "\n",
       "    .dataframe thead th {\n",
       "        text-align: right;\n",
       "    }\n",
       "</style>\n",
       "<table border=\"1\" class=\"dataframe\">\n",
       "  <thead>\n",
       "    <tr style=\"text-align: right;\">\n",
       "      <th></th>\n",
       "      <th>timestamp</th>\n",
       "      <th>user_id</th>\n",
       "      <th>store_id</th>\n",
       "      <th>device</th>\n",
       "      <th>platform</th>\n",
       "      <th>channel</th>\n",
       "    </tr>\n",
       "  </thead>\n",
       "  <tbody>\n",
       "    <tr>\n",
       "      <th>0</th>\n",
       "      <td>2021-02-03 23:47:27</td>\n",
       "      <td>28349</td>\n",
       "      <td>366</td>\n",
       "      <td>app_ios</td>\n",
       "      <td>iOS App</td>\n",
       "      <td>Direct</td>\n",
       "    </tr>\n",
       "    <tr>\n",
       "      <th>1</th>\n",
       "      <td>2021-03-07 15:52:05</td>\n",
       "      <td>3553</td>\n",
       "      <td>424</td>\n",
       "      <td>mobile_android</td>\n",
       "      <td>Web</td>\n",
       "      <td>Display</td>\n",
       "    </tr>\n",
       "    <tr>\n",
       "      <th>2</th>\n",
       "      <td>2021-03-09 13:17:56</td>\n",
       "      <td>53657</td>\n",
       "      <td>165</td>\n",
       "      <td>desktop</td>\n",
       "      <td>Web</td>\n",
       "      <td>Referral</td>\n",
       "    </tr>\n",
       "  </tbody>\n",
       "</table>\n",
       "</div>"
      ],
      "text/plain": [
       "            timestamp  user_id  store_id          device platform   channel\n",
       "0 2021-02-03 23:47:27    28349       366         app_ios  iOS App    Direct\n",
       "1 2021-03-07 15:52:05     3553       424  mobile_android      Web   Display\n",
       "2 2021-03-09 13:17:56    53657       165         desktop      Web  Referral"
      ]
     },
     "execution_count": 2,
     "metadata": {},
     "output_type": "execute_result"
    }
   ],
   "source": [
    "colsClicks = ['timestamp', 'user_id', 'store_id', 'device', 'platform', 'channel']\n",
    "dfClicks = pd.read_parquet('data/clicks.parquet', engine='fastparquet')[colsClicks]\n",
    "dfClicks['timestamp'] = pd.to_datetime(dfClicks['timestamp'])\n",
    "\n",
    "dfClicks = dfClicks[(dfClicks['timestamp']>='2021-01-01') & (dfClicks['timestamp']<'2021-04-01')].reset_index(drop=True)\n",
    "print(f\"Clicks data contains {len(dfClicks)} rows from {dfClicks['user_id'].nunique()} users, {dfClicks['store_id'].nunique()} stores, {dfClicks['channel'].nunique()} channels over {dfClicks['timestamp'].min()} to {dfClicks['timestamp'].max()}\")\n",
    "print(f\"There are {dfClicks['device'].nunique()} devices, such as {list(dfClicks['device'].value_counts().head().index)}\")\n",
    "print(f\"There are {dfClicks['platform'].nunique()} platforms, such as {list(dfClicks['platform'].value_counts().head().index)}\")\n",
    "print(f\"There are {dfClicks['channel'].nunique()} channels, such as {list(dfClicks['channel'].value_counts().head().index)}\")\n",
    "CheckMissingValues(dfClicks)\n",
    "dfClicks.head(3)"
   ]
  },
  {
   "cell_type": "markdown",
   "metadata": {},
   "source": [
    "Observation:\n",
    "* Much more users then stores\n",
    "* The small number of stores favors item-based collaborative filtering.\n",
    "    * However in this exercise, I will try out matrix factorization based on Keras.\n",
    "        * We will see that the recommendation is not well personalized for this data set.\n",
    "* Concentrated categories of devices and platforms"
   ]
  },
  {
   "cell_type": "code",
   "execution_count": 3,
   "metadata": {},
   "outputs": [
    {
     "name": "stdout",
     "output_type": "stream",
     "text": [
      "Stores data contains 537 rows from 537 stores, 497 marchants from 2020-03-02\n",
      "WARNING: column start_date contains 198 missing values.\n",
      "WARNING: column end_date contains 198 missing values.\n"
     ]
    },
    {
     "data": {
      "text/html": [
       "<div>\n",
       "<style scoped>\n",
       "    .dataframe tbody tr th:only-of-type {\n",
       "        vertical-align: middle;\n",
       "    }\n",
       "\n",
       "    .dataframe tbody tr th {\n",
       "        vertical-align: top;\n",
       "    }\n",
       "\n",
       "    .dataframe thead th {\n",
       "        text-align: right;\n",
       "    }\n",
       "</style>\n",
       "<table border=\"1\" class=\"dataframe\">\n",
       "  <thead>\n",
       "    <tr style=\"text-align: right;\">\n",
       "      <th></th>\n",
       "      <th>store_id</th>\n",
       "      <th>merchant_id</th>\n",
       "      <th>start_date</th>\n",
       "      <th>end_date</th>\n",
       "    </tr>\n",
       "  </thead>\n",
       "  <tbody>\n",
       "    <tr>\n",
       "      <th>0</th>\n",
       "      <td>0</td>\n",
       "      <td>0</td>\n",
       "      <td>2020-07-31</td>\n",
       "      <td>2029-12-31</td>\n",
       "    </tr>\n",
       "    <tr>\n",
       "      <th>1</th>\n",
       "      <td>1</td>\n",
       "      <td>1</td>\n",
       "      <td>2020-03-26</td>\n",
       "      <td>2029-12-31</td>\n",
       "    </tr>\n",
       "    <tr>\n",
       "      <th>2</th>\n",
       "      <td>2</td>\n",
       "      <td>2</td>\n",
       "      <td>2020-03-02</td>\n",
       "      <td>2028-12-31</td>\n",
       "    </tr>\n",
       "  </tbody>\n",
       "</table>\n",
       "</div>"
      ],
      "text/plain": [
       "   store_id  merchant_id start_date   end_date\n",
       "0         0            0 2020-07-31 2029-12-31\n",
       "1         1            1 2020-03-26 2029-12-31\n",
       "2         2            2 2020-03-02 2028-12-31"
      ]
     },
     "execution_count": 3,
     "metadata": {},
     "output_type": "execute_result"
    }
   ],
   "source": [
    "colsStores = ['store_id', 'merchant_id', 'start_date', 'end_date']\n",
    "dfStores = pd.read_parquet('data/stores.parquet', engine='fastparquet')[colsStores]\n",
    "dfStores['start_date'] = pd.to_datetime(dfStores['start_date'])\n",
    "dfStores['end_date'] = pd.to_datetime(dfStores['end_date'])\n",
    "print(f\"Stores data contains {len(dfStores)} rows from {dfStores['store_id'].nunique()} stores, {dfStores['merchant_id'].nunique()} marchants from {dfStores['start_date'].min().date()}\")\n",
    "CheckMissingValues(dfStores)\n",
    "dfStores.head(3)"
   ]
  },
  {
   "cell_type": "code",
   "execution_count": 4,
   "metadata": {},
   "outputs": [
    {
     "data": {
      "text/plain": [
       "1"
      ]
     },
     "execution_count": 4,
     "metadata": {},
     "output_type": "execute_result"
    }
   ],
   "source": [
    "# Number of merchant per store\n",
    "seNumMerchantPerStore = dfStores.groupby('store_id')['merchant_id'].nunique()\n",
    "seNumMerchantPerStore.max()"
   ]
  },
  {
   "cell_type": "code",
   "execution_count": 5,
   "metadata": {},
   "outputs": [
    {
     "data": {
      "text/plain": [
       "count                              339\n",
       "mean     2020-07-12 12:02:07.433628416\n",
       "min                2020-03-02 00:00:00\n",
       "25%                2020-04-21 00:00:00\n",
       "50%                2020-05-18 00:00:00\n",
       "75%                2020-08-10 00:00:00\n",
       "max                2021-05-05 00:00:00\n",
       "Name: start_date, dtype: object"
      ]
     },
     "execution_count": 5,
     "metadata": {},
     "output_type": "execute_result"
    }
   ],
   "source": [
    "dfStores['start_date'].describe(datetime_is_numeric=True)"
   ]
  },
  {
   "cell_type": "code",
   "execution_count": 6,
   "metadata": {},
   "outputs": [
    {
     "data": {
      "text/plain": [
       "count                              339\n",
       "mean     2043-05-14 23:17:31.327433728\n",
       "min                2021-05-06 00:00:00\n",
       "25%                2029-12-31 00:00:00\n",
       "50%                2050-04-30 00:00:00\n",
       "75%                2050-07-31 00:00:00\n",
       "max                2120-06-30 00:00:00\n",
       "Name: end_date, dtype: object"
      ]
     },
     "execution_count": 6,
     "metadata": {},
     "output_type": "execute_result"
    }
   ],
   "source": [
    "dfStores['end_date'].describe(datetime_is_numeric=True)"
   ]
  },
  {
   "cell_type": "code",
   "execution_count": 7,
   "metadata": {},
   "outputs": [
    {
     "data": {
      "text/plain": [
       "count                             339\n",
       "mean     8341 days 11:15:23.893805312\n",
       "std      4847 days 04:20:14.927688064\n",
       "min                   2 days 00:00:00\n",
       "25%                3567 days 00:00:00\n",
       "50%               10963 days 00:00:00\n",
       "75%               10970 days 00:00:00\n",
       "max               36553 days 00:00:00\n",
       "dtype: object"
      ]
     },
     "execution_count": 7,
     "metadata": {},
     "output_type": "execute_result"
    }
   ],
   "source": [
    "(dfStores['end_date'] - dfStores['start_date']).describe()"
   ]
  },
  {
   "cell_type": "markdown",
   "metadata": {},
   "source": [
    "Observations:\n",
    "* 25% stores were not presented in the clicks data\n",
    "* Each store had maximum 1 merchant (1-to-many)\n",
    "* Start and End dates:\n",
    "    * Some stores opened only for a very short period of time\n",
    "    * Should not recommend stores which have been closed\n",
    "        * In this dataset, the minimum `end_at` is 2021-05-06, so I will not handle this for this exercise.\n",
    "    * Can specificly recommend newly opened stores\n",
    "    * Why stores opened \"in future\" (after Mar 2021) could also get clicks?"
   ]
  },
  {
   "cell_type": "markdown",
   "metadata": {},
   "source": [
    "# More Exploration"
   ]
  },
  {
   "cell_type": "code",
   "execution_count": 8,
   "metadata": {},
   "outputs": [
    {
     "data": {
      "text/html": [
       "<div>\n",
       "<style scoped>\n",
       "    .dataframe tbody tr th:only-of-type {\n",
       "        vertical-align: middle;\n",
       "    }\n",
       "\n",
       "    .dataframe tbody tr th {\n",
       "        vertical-align: top;\n",
       "    }\n",
       "\n",
       "    .dataframe thead th {\n",
       "        text-align: right;\n",
       "    }\n",
       "</style>\n",
       "<table border=\"1\" class=\"dataframe\">\n",
       "  <thead>\n",
       "    <tr style=\"text-align: right;\">\n",
       "      <th></th>\n",
       "      <th>timestamp</th>\n",
       "      <th>user_id</th>\n",
       "      <th>store_id</th>\n",
       "      <th>device</th>\n",
       "      <th>platform</th>\n",
       "      <th>channel</th>\n",
       "      <th>merchant_id</th>\n",
       "      <th>yearmonth</th>\n",
       "    </tr>\n",
       "  </thead>\n",
       "  <tbody>\n",
       "    <tr>\n",
       "      <th>1841760</th>\n",
       "      <td>2021-03-11 13:31:29</td>\n",
       "      <td>210121</td>\n",
       "      <td>36</td>\n",
       "      <td>desktop</td>\n",
       "      <td>Web</td>\n",
       "      <td>Direct</td>\n",
       "      <td>36</td>\n",
       "      <td>2021-03</td>\n",
       "    </tr>\n",
       "    <tr>\n",
       "      <th>297397</th>\n",
       "      <td>2021-01-30 11:22:46</td>\n",
       "      <td>33193</td>\n",
       "      <td>182</td>\n",
       "      <td>app_android</td>\n",
       "      <td>Android App</td>\n",
       "      <td>paid_ins_af_banner</td>\n",
       "      <td>40</td>\n",
       "      <td>2021-01</td>\n",
       "    </tr>\n",
       "    <tr>\n",
       "      <th>1364109</th>\n",
       "      <td>2021-01-27 01:41:28</td>\n",
       "      <td>65141</td>\n",
       "      <td>36</td>\n",
       "      <td>desktop</td>\n",
       "      <td>Web</td>\n",
       "      <td>(Other)</td>\n",
       "      <td>36</td>\n",
       "      <td>2021-01</td>\n",
       "    </tr>\n",
       "  </tbody>\n",
       "</table>\n",
       "</div>"
      ],
      "text/plain": [
       "                  timestamp  user_id  store_id       device     platform  \\\n",
       "1841760 2021-03-11 13:31:29   210121        36      desktop          Web   \n",
       "297397  2021-01-30 11:22:46    33193       182  app_android  Android App   \n",
       "1364109 2021-01-27 01:41:28    65141        36      desktop          Web   \n",
       "\n",
       "                    channel  merchant_id yearmonth  \n",
       "1841760              Direct           36   2021-03  \n",
       "297397   paid_ins_af_banner           40   2021-01  \n",
       "1364109             (Other)           36   2021-01  "
      ]
     },
     "execution_count": 8,
     "metadata": {},
     "output_type": "execute_result"
    }
   ],
   "source": [
    "colsClicks = ['timestamp', 'user_id', 'store_id', 'device', 'platform', 'channel']\n",
    "colsStores = ['store_id', 'merchant_id']\n",
    "df0 = dfClicks[colsClicks].merge(dfStores[colsStores], 'left', 'store_id')\n",
    "\n",
    "df0['yearmonth'] = df0['timestamp'].dt.strftime('%Y-%m')\n",
    "\n",
    "df0.sample(3)"
   ]
  },
  {
   "cell_type": "markdown",
   "metadata": {},
   "source": [
    "### 1) Distribution of clicks among merchant"
   ]
  },
  {
   "cell_type": "code",
   "execution_count": 9,
   "metadata": {},
   "outputs": [
    {
     "name": "stdout",
     "output_type": "stream",
     "text": [
      "Top 10 merchants contributed 67.09 % of clicks\n",
      "Top 20 merchants contributed 79.70 % of clicks\n"
     ]
    },
    {
     "data": {
      "text/plain": [
       "<AxesSubplot:>"
      ]
     },
     "execution_count": 9,
     "metadata": {},
     "output_type": "execute_result"
    },
    {
     "data": {
      "image/png": "[encoded data removed]",
      "text/plain": [
       "<Figure size 432x288 with 1 Axes>"
      ]
     },
     "metadata": {
      "needs_background": "light"
     },
     "output_type": "display_data"
    }
   ],
   "source": [
    "seMerchantClicks = df0['merchant_id'].value_counts()\n",
    "\n",
    "# exam top 10 and top 20 stores\n",
    "nClicksTotal = seMerchantClicks.sum()\n",
    "nClicksTop10 = seMerchantClicks.head(10).sum()\n",
    "nClicksTop20 = seMerchantClicks.head(20).sum()\n",
    "print(f\"Top 10 merchants contributed {(nClicksTop10/nClicksTotal)*100:.2f} % of clicks\")\n",
    "print(f\"Top 20 merchants contributed {(nClicksTop20/nClicksTotal)*100:.2f} % of clicks\")\n",
    "\n",
    "seMerchantClicks.reset_index(drop=True).plot()"
   ]
  },
  {
   "cell_type": "markdown",
   "metadata": {},
   "source": [
    "Observation:\n",
    "* Very skewed, clicks were concentrated in most popular merchants"
   ]
  },
  {
   "cell_type": "markdown",
   "metadata": {},
   "source": [
    "### 2) Average number of clicks per user per month"
   ]
  },
  {
   "cell_type": "code",
   "execution_count": 10,
   "metadata": {},
   "outputs": [
    {
     "name": "stdout",
     "output_type": "stream",
     "text": [
      "Number of clicks per user per month: average = 10.11, median = 5.00\n"
     ]
    }
   ],
   "source": [
    "seUserMonthClicks = df0.groupby(['user_id','yearmonth']).size()\n",
    "\n",
    "print(f\"Number of clicks per user per month: average = {seUserMonthClicks.mean():.2f}, median = {seUserMonthClicks.median():.2f}\")"
   ]
  },
  {
   "cell_type": "markdown",
   "metadata": {},
   "source": [
    "Observation:\n",
    "* Some users clicked much more than others, which pulls up the average"
   ]
  },
  {
   "cell_type": "markdown",
   "metadata": {},
   "source": [
    "### 3) Number of merchants clicked by each user"
   ]
  },
  {
   "cell_type": "code",
   "execution_count": 11,
   "metadata": {},
   "outputs": [
    {
     "data": {
      "text/plain": [
       "count    103806.000000\n",
       "mean          3.864256\n",
       "std           4.071698\n",
       "min           1.000000\n",
       "25%           1.000000\n",
       "50%           2.000000\n",
       "75%           5.000000\n",
       "max         204.000000\n",
       "Name: merchant_id, dtype: float64"
      ]
     },
     "execution_count": 11,
     "metadata": {},
     "output_type": "execute_result"
    }
   ],
   "source": [
    "seUserMerchants = df0.groupby(['user_id'])['merchant_id'].nunique().sort_values(ascending=False)\n",
    "\n",
    "seUserMerchants.describe()"
   ]
  },
  {
   "cell_type": "code",
   "execution_count": 12,
   "metadata": {},
   "outputs": [
    {
     "data": {
      "text/plain": [
       "user_id\n",
       "204339    204\n",
       "112508    112\n",
       "82271     105\n",
       "201554     76\n",
       "188010     72\n",
       "Name: merchant_id, dtype: int64"
      ]
     },
     "execution_count": 12,
     "metadata": {},
     "output_type": "execute_result"
    }
   ],
   "source": [
    "# Top 5 users with most visited merchants\n",
    "seUserMerchants.head(5)"
   ]
  },
  {
   "cell_type": "code",
   "execution_count": 13,
   "metadata": {},
   "outputs": [
    {
     "data": {
      "text/plain": [
       "user_id\n",
       "61496     5\n",
       "67177     5\n",
       "233637    5\n",
       "67464     5\n",
       "91134     5\n",
       "Name: merchant_id, dtype: int64"
      ]
     },
     "execution_count": 13,
     "metadata": {},
     "output_type": "execute_result"
    }
   ],
   "source": [
    "# Some users visited 5 merchants\n",
    "seUserMerchants[seUserMerchants==5].head()"
   ]
  },
  {
   "cell_type": "code",
   "execution_count": 14,
   "metadata": {},
   "outputs": [
    {
     "data": {
      "text/plain": [
       "user_id\n",
       "206475    1\n",
       "58427     1\n",
       "207596    1\n",
       "218634    1\n",
       "218623    1\n",
       "Name: merchant_id, dtype: int64"
      ]
     },
     "execution_count": 14,
     "metadata": {},
     "output_type": "execute_result"
    }
   ],
   "source": [
    "# Some users visited only 1 merchant\n",
    "seUserMerchants[seUserMerchants==1].head()"
   ]
  },
  {
   "cell_type": "code",
   "execution_count": 15,
   "metadata": {},
   "outputs": [
    {
     "name": "stdout",
     "output_type": "stream",
     "text": [
      "49.89% users had clicked on at least 3 merchants.\n"
     ]
    }
   ],
   "source": [
    "# Users with at last 3 merchants clicked\n",
    "# Validation of the recommender's performance will be primarily on these group of users\n",
    "\n",
    "print(f\"{(seUserMerchants>=3).sum()/len(seUserMerchants)*100:.2f}% users had clicked on at least 3 merchants.\")"
   ]
  },
  {
   "cell_type": "markdown",
   "metadata": {},
   "source": [
    "### 4) Distribution of users among merchant"
   ]
  },
  {
   "cell_type": "code",
   "execution_count": 16,
   "metadata": {},
   "outputs": [
    {
     "data": {
      "text/plain": [
       "merchant_id\n",
       "40     38901\n",
       "36     28598\n",
       "398    21893\n",
       "271    20730\n",
       "490    19440\n",
       "Name: user_id, dtype: int64"
      ]
     },
     "execution_count": 16,
     "metadata": {},
     "output_type": "execute_result"
    }
   ],
   "source": [
    "seMerchantUsers = df0.groupby(['merchant_id'])['user_id'].nunique().sort_values(ascending=False)\n",
    "seMerchantUsers.head(5)"
   ]
  },
  {
   "cell_type": "code",
   "execution_count": 17,
   "metadata": {},
   "outputs": [
    {
     "data": {
      "text/plain": [
       "<AxesSubplot:>"
      ]
     },
     "execution_count": 17,
     "metadata": {},
     "output_type": "execute_result"
    },
    {
     "data": {
      "image/png": "[encoded data removed]",
      "text/plain": [
       "<Figure size 432x288 with 1 Axes>"
      ]
     },
     "metadata": {
      "needs_background": "light"
     },
     "output_type": "display_data"
    }
   ],
   "source": [
    "seMerchantUsers.reset_index(drop=True).plot()"
   ]
  },
  {
   "cell_type": "markdown",
   "metadata": {},
   "source": [
    "Observation:\n",
    "* Still very skewed -- though it is less skewed than clicks"
   ]
  },
  {
   "cell_type": "code",
   "execution_count": null,
   "metadata": {},
   "outputs": [],
   "source": []
  }
 ],
 "metadata": {
  "interpreter": {
   "hash": "7b4b4feff2f24a0f0a34464dbe537a36fda679851528fb8735cb41fa49dffb2d"
  },
  "kernelspec": {
   "display_name": "Python 3",
   "language": "python",
   "name": "python3"
  },
  "language_info": {
   "codemirror_mode": {
    "name": "ipython",
    "version": 3
   },
   "file_extension": ".py",
   "mimetype": "text/x-python",
   "name": "python",
   "nbconvert_exporter": "python",
   "pygments_lexer": "ipython3",
   "version": "3.8.8"
  }
 },
 "nbformat": 4,
 "nbformat_minor": 2
}
