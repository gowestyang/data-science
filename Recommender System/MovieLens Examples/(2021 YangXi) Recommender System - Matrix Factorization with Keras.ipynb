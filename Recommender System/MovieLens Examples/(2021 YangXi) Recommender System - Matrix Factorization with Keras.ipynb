{
 "cells": [
  {
   "cell_type": "markdown",
   "id": "5c8236b2",
   "metadata": {},
   "source": [
    "# Recommender System - Matrix Factorization with Keras\n",
    "\n",
    "Yang Xi, 2021-09-17<br>\n",
    "\n",
    "References:\n",
    "- AlgoExpert, Recommender Systems\n",
    "- https://keras.io/examples/structured_data/collaborative_filtering_movielens/\n",
    "- https://medium.com/@jdwittenauer/deep-learning-with-keras-recommender-systems-e7b99cb29929\n",
    "- https://machinelearningmastery.com/use-word-embedding-layers-deep-learning-keras/\n",
    "- https://stats.stackexchange.com/questions/270546/how-does-keras-embedding-layer-work\n",
    "- https://queirozf.com/entries/evaluation-metrics-for-ranking-problems-introduction-and-examples\n",
    "- https://en.wikipedia.org/wiki/Discounted_cumulative_gain\n",
    "\n",
    "<br>\n",
    "\n",
    "This notebook presents how to train and validate a recommender system based matrix factorization, using Keras API\n",
    "* Prepossing of data\n",
    "* Model construction and training\n",
    "* Evaluate ranking performance (NDCG) on train and validation data sets\n",
    "* Make recommandation"
   ]
  },
  {
   "cell_type": "code",
   "execution_count": 1,
   "id": "8ead01d0",
   "metadata": {},
   "outputs": [],
   "source": [
    "import numpy as np\n",
    "np.random.seed(0)"
   ]
  },
  {
   "cell_type": "markdown",
   "id": "240cfe97",
   "metadata": {},
   "source": [
    "## Load Data"
   ]
  },
  {
   "cell_type": "code",
   "execution_count": 2,
   "id": "9660bbb0",
   "metadata": {},
   "outputs": [
    {
     "name": "stdout",
     "output_type": "stream",
     "text": [
      "Ratings data contains 100836 rows from 610 users, 9724 movies, with ratings range 0.5 to 5.0\n"
     ]
    },
    {
     "data": {
      "text/html": [
       "<div>\n",
       "<style scoped>\n",
       "    .dataframe tbody tr th:only-of-type {\n",
       "        vertical-align: middle;\n",
       "    }\n",
       "\n",
       "    .dataframe tbody tr th {\n",
       "        vertical-align: top;\n",
       "    }\n",
       "\n",
       "    .dataframe thead th {\n",
       "        text-align: right;\n",
       "    }\n",
       "</style>\n",
       "<table border=\"1\" class=\"dataframe\">\n",
       "  <thead>\n",
       "    <tr style=\"text-align: right;\">\n",
       "      <th></th>\n",
       "      <th>userId</th>\n",
       "      <th>movieId</th>\n",
       "      <th>rating</th>\n",
       "      <th>timestamp</th>\n",
       "    </tr>\n",
       "  </thead>\n",
       "  <tbody>\n",
       "    <tr>\n",
       "      <th>0</th>\n",
       "      <td>1</td>\n",
       "      <td>1</td>\n",
       "      <td>4.0</td>\n",
       "      <td>964982703</td>\n",
       "    </tr>\n",
       "    <tr>\n",
       "      <th>1</th>\n",
       "      <td>1</td>\n",
       "      <td>3</td>\n",
       "      <td>4.0</td>\n",
       "      <td>964981247</td>\n",
       "    </tr>\n",
       "    <tr>\n",
       "      <th>2</th>\n",
       "      <td>1</td>\n",
       "      <td>6</td>\n",
       "      <td>4.0</td>\n",
       "      <td>964982224</td>\n",
       "    </tr>\n",
       "  </tbody>\n",
       "</table>\n",
       "</div>"
      ],
      "text/plain": [
       "   userId  movieId  rating  timestamp\n",
       "0       1        1     4.0  964982703\n",
       "1       1        3     4.0  964981247\n",
       "2       1        6     4.0  964982224"
      ]
     },
     "execution_count": 2,
     "metadata": {},
     "output_type": "execute_result"
    }
   ],
   "source": [
    "import pandas as pd\n",
    "\n",
    "dfRating = pd.read_csv('data/ratings.csv')\n",
    "print(f\"Ratings data contains {dfRating.shape[0]} rows from {dfRating['userId'].nunique()} users, {dfRating['movieId'].nunique()} movies, with ratings range {dfRating['rating'].min()} to {dfRating['rating'].max()}\")\n",
    "dfRating.head(3)"
   ]
  },
  {
   "cell_type": "markdown",
   "id": "14f55655",
   "metadata": {},
   "source": [
    "## Preprocessing\n",
    "\n",
    "Encode users and movies as sequencial intergers index -- this is required by keras Embedding.\n",
    "\n",
    "Preferably, encoding should be done after train/test split to avoid potentail data leaking.\n"
   ]
  },
  {
   "cell_type": "code",
   "execution_count": 3,
   "id": "1a17a999",
   "metadata": {},
   "outputs": [
    {
     "data": {
      "text/html": [
       "<div>\n",
       "<style scoped>\n",
       "    .dataframe tbody tr th:only-of-type {\n",
       "        vertical-align: middle;\n",
       "    }\n",
       "\n",
       "    .dataframe tbody tr th {\n",
       "        vertical-align: top;\n",
       "    }\n",
       "\n",
       "    .dataframe thead th {\n",
       "        text-align: right;\n",
       "    }\n",
       "</style>\n",
       "<table border=\"1\" class=\"dataframe\">\n",
       "  <thead>\n",
       "    <tr style=\"text-align: right;\">\n",
       "      <th></th>\n",
       "      <th>userId</th>\n",
       "      <th>movieId</th>\n",
       "      <th>rating</th>\n",
       "      <th>timestamp</th>\n",
       "      <th>userIndex</th>\n",
       "      <th>movieIndex</th>\n",
       "    </tr>\n",
       "  </thead>\n",
       "  <tbody>\n",
       "    <tr>\n",
       "      <th>0</th>\n",
       "      <td>1</td>\n",
       "      <td>1</td>\n",
       "      <td>4.0</td>\n",
       "      <td>964982703</td>\n",
       "      <td>0</td>\n",
       "      <td>0</td>\n",
       "    </tr>\n",
       "    <tr>\n",
       "      <th>1</th>\n",
       "      <td>1</td>\n",
       "      <td>3</td>\n",
       "      <td>4.0</td>\n",
       "      <td>964981247</td>\n",
       "      <td>0</td>\n",
       "      <td>2</td>\n",
       "    </tr>\n",
       "    <tr>\n",
       "      <th>2</th>\n",
       "      <td>1</td>\n",
       "      <td>6</td>\n",
       "      <td>4.0</td>\n",
       "      <td>964982224</td>\n",
       "      <td>0</td>\n",
       "      <td>5</td>\n",
       "    </tr>\n",
       "  </tbody>\n",
       "</table>\n",
       "</div>"
      ],
      "text/plain": [
       "   userId  movieId  rating  timestamp  userIndex  movieIndex\n",
       "0       1        1     4.0  964982703          0           0\n",
       "1       1        3     4.0  964981247          0           2\n",
       "2       1        6     4.0  964982224          0           5"
      ]
     },
     "execution_count": 3,
     "metadata": {},
     "output_type": "execute_result"
    }
   ],
   "source": [
    "from sklearn.preprocessing import LabelEncoder\n",
    "\n",
    "encUser = LabelEncoder()\n",
    "dfRating['userIndex'] = encUser.fit_transform(dfRating['userId'])\n",
    "\n",
    "encMovie = LabelEncoder()\n",
    "dfRating['movieIndex'] = encMovie.fit_transform(dfRating['movieId'])\n",
    "\n",
    "dfRating.head(3)"
   ]
  },
  {
   "cell_type": "markdown",
   "id": "497969d8",
   "metadata": {},
   "source": [
    "## Split Train and Test Sets"
   ]
  },
  {
   "cell_type": "code",
   "execution_count": 4,
   "id": "403b47e8",
   "metadata": {},
   "outputs": [
    {
     "name": "stdout",
     "output_type": "stream",
     "text": [
      "Train set size: X = (80669, 2), y = (80669,)\n",
      "Validation set size: X = (20167, 2), y = (20167,)\n"
     ]
    }
   ],
   "source": [
    "from sklearn.preprocessing import MinMaxScaler\n",
    "\n",
    "# Keep these dataframes for validation\n",
    "colsSelect = ['userIndex', 'movieIndex', 'rating']\n",
    "dfTrain = dfRating[colsSelect].sample(frac=0.8, random_state=21)\n",
    "dfVali = dfRating.drop(dfTrain.index)\n",
    "\n",
    "# For model\n",
    "XTrain, yTrain = dfTrain[['userIndex', 'movieIndex']].values, dfTrain['rating'].values\n",
    "XVali, yVali = dfVali[['userIndex', 'movieIndex']].values, dfVali['rating'].values\n",
    "\n",
    "print(f\"Train set size: X = {XTrain.shape}, y = {yTrain.shape}\")\n",
    "print(f\"Validation set size: X = {XVali.shape}, y = {yVali.shape}\")\n",
    "\n",
    "# More standardization to fit in sigmoid activation function\n",
    "scaler = MinMaxScaler()\n",
    "yTrain = scaler.fit_transform(yTrain.reshape(-1, 1))[:,0]\n",
    "yVali = scaler.transform(yVali.reshape(-1, 1))[:,0]"
   ]
  },
  {
   "cell_type": "markdown",
   "id": "15be47b9",
   "metadata": {},
   "source": [
    "## Train Model"
   ]
  },
  {
   "cell_type": "code",
   "execution_count": 5,
   "id": "f22edcff",
   "metadata": {},
   "outputs": [],
   "source": [
    "from keras.models import Model\n",
    "from keras.layers.embeddings import Embedding\n",
    "from keras.regularizers import l2\n",
    "from keras.layers import Dot, Add, Activation\n",
    "from keras.optimizers import Adam\n",
    "\n",
    "class Recommender(Model):\n",
    "    def __init__(self, nUsers, nMovies, nFactors):\n",
    "        super(Recommender, self).__init__()\n",
    "        self.embeddingUser = Embedding(\n",
    "            nUsers,\n",
    "            nFactors,\n",
    "            embeddings_initializer='he_normal',\n",
    "            embeddings_regularizer=l2(1e-6)\n",
    "        )\n",
    "        self.biasUser = Embedding(nUsers, 1)\n",
    "        \n",
    "        self.embeddingMovie = Embedding(\n",
    "            nMovies,\n",
    "            nFactors,\n",
    "            embeddings_initializer='he_normal',\n",
    "            embeddings_regularizer=l2(1e-6)\n",
    "        )\n",
    "        self.biasMovie = Embedding(nMovies, 1)\n",
    "        \n",
    "    def call(self, arInput):\n",
    "        vecUser = self.embeddingUser(arInput[:,0])\n",
    "        biasUser = self.biasUser(arInput[:,0])\n",
    "        vecMovie = self.embeddingMovie(arInput[:,1])\n",
    "        biasMovie = self.biasMovie(arInput[:,1])\n",
    "        \n",
    "        x = Dot(axes=1)([vecUser, vecMovie])\n",
    "        x = Add()([x, biasUser, biasMovie])\n",
    "        x = Activation('sigmoid')(x)\n",
    "        return x\n"
   ]
  },
  {
   "cell_type": "code",
   "execution_count": 6,
   "id": "0d593018",
   "metadata": {},
   "outputs": [
    {
     "name": "stdout",
     "output_type": "stream",
     "text": [
      "Epoch 1/5\n",
      "1261/1261 [==============================] - 6s 4ms/step - loss: 0.0717 - val_loss: 0.0606\n",
      "Epoch 2/5\n",
      "1261/1261 [==============================] - 6s 4ms/step - loss: 0.0489 - val_loss: 0.0432\n",
      "Epoch 3/5\n",
      "1261/1261 [==============================] - 5s 4ms/step - loss: 0.0372 - val_loss: 0.0400\n",
      "Epoch 4/5\n",
      "1261/1261 [==============================] - 6s 4ms/step - loss: 0.0325 - val_loss: 0.0390\n",
      "Epoch 5/5\n",
      "1261/1261 [==============================] - 6s 4ms/step - loss: 0.0291 - val_loss: 0.0386\n"
     ]
    }
   ],
   "source": [
    "EMBEDDING_SIZE = 50\n",
    "\n",
    "nUsers = dfRating['userIndex'].nunique()\n",
    "nMovies = dfRating['movieIndex'].nunique()\n",
    "\n",
    "model = Recommender(nUsers, nMovies, EMBEDDING_SIZE)\n",
    "model.compile(loss='mean_squared_error', optimizer=Adam(learning_rate=0.0005))\n",
    "\n",
    "fitHistory = model.fit(\n",
    "    x=XTrain,\n",
    "    y=yTrain,\n",
    "    batch_size=64,\n",
    "    epochs=5,\n",
    "    verbose=1,\n",
    "    validation_data=(XVali, yVali),\n",
    ")"
   ]
  },
  {
   "cell_type": "code",
   "execution_count": 7,
   "id": "3722746c",
   "metadata": {},
   "outputs": [
    {
     "data": {
      "image/png": "[encoded data removed]",
      "text/plain": [
       "<Figure size 432x288 with 1 Axes>"
      ]
     },
     "metadata": {
      "needs_background": "light"
     },
     "output_type": "display_data"
    }
   ],
   "source": [
    "import matplotlib.pyplot as plt\n",
    "\n",
    "# Plot training and validation loss\n",
    "plt.plot(fitHistory.history['loss'])\n",
    "plt.plot(fitHistory.history['val_loss'])\n",
    "plt.title('Train Loss vs. Validation Loss')\n",
    "plt.ylabel('loss')\n",
    "plt.xlabel('epoch')\n",
    "plt.legend(['train', 'validation'], loc='upper right')\n",
    "plt.show()"
   ]
  },
  {
   "cell_type": "markdown",
   "id": "636a7f56",
   "metadata": {},
   "source": [
    "## Evaluate Model Performance\n",
    "\n",
    "Let's evaluate the performance using **Normalized Discounted Cumulative Gain (NDCG)**\n",
    "\n",
    "Note on `ndcg_score` from `sklearn`:\n",
    "* The formulation implemented is the non-traditional one, with (2^rel - 1) in the numerator\n",
    "* The implementation works normally if length of input list is smaller than k\n",
    "* If a list of lists is inputed, it will calculate NDCG for each list, then return the mean\n",
    "    * The implementation will fail if the lists are of different length\n",
    "* The implementation also will fail if the list(s) contain only single element\n"
   ]
  },
  {
   "cell_type": "code",
   "execution_count": 8,
   "id": "f4de1c4f",
   "metadata": {},
   "outputs": [],
   "source": [
    "from sklearn.metrics import ndcg_score\n",
    "\n",
    "# Evaluate performnace based on top N movies\n",
    "TOP_N_MOVIE = 3\n",
    "\n",
    "def CalcNDCG(df, colActual='rating', colPred='predScore', k=TOP_N_MOVIE):\n",
    "    ar = df[[colActual, colPred]].values.T\n",
    "    return ndcg_score([ar[0]], [ar[1]], k=k, ignore_ties=False)\n"
   ]
  },
  {
   "cell_type": "markdown",
   "id": "020100f1",
   "metadata": {},
   "source": [
    "### Train Performance"
   ]
  },
  {
   "cell_type": "code",
   "execution_count": 9,
   "id": "82d5edaa",
   "metadata": {},
   "outputs": [
    {
     "name": "stdout",
     "output_type": "stream",
     "text": [
      "80669 rows from 80669 rows are by users watched at least minimum 3 movies.\n",
      "Average NDCG of train set = 0.91\n"
     ]
    }
   ],
   "source": [
    "dfTrain['predScore'] = model.predict(XTrain).flatten()\n",
    "\n",
    "## Filter for user with at least N movies\n",
    "seUserMoviesCount = dfTrain.groupby('userIndex').size()\n",
    "indexSelect = dfTrain['userIndex'].isin(seUserMoviesCount[seUserMoviesCount>=TOP_N_MOVIE].index)\n",
    "print(f\"{indexSelect.sum()} rows from {len(dfTrain)} rows are by users watched at least minimum {TOP_N_MOVIE} movies.\")\n",
    "\n",
    "ndcgTrain = dfTrain[indexSelect].groupby(['userIndex']).apply(CalcNDCG).mean()\n",
    "print(f\"Average NDCG of train set = {ndcgTrain:.2f}\")"
   ]
  },
  {
   "cell_type": "markdown",
   "id": "6d165ce3",
   "metadata": {},
   "source": [
    "### Validation Performance"
   ]
  },
  {
   "cell_type": "code",
   "execution_count": 10,
   "id": "cac8fa57",
   "metadata": {},
   "outputs": [
    {
     "name": "stdout",
     "output_type": "stream",
     "text": [
      "20143 rows from 20167 rows are by users watched at least minimum 3 movies.\n",
      "Average NDCG of validation set = 0.89\n"
     ]
    }
   ],
   "source": [
    "dfVali['predScore'] = model.predict(XVali).flatten()\n",
    "\n",
    "## Filter for user with at least N movies\n",
    "seUserMoviesCount = dfVali.groupby('userIndex').size()\n",
    "indexSelect = dfVali['userIndex'].isin(seUserMoviesCount[seUserMoviesCount>=TOP_N_MOVIE].index)\n",
    "print(f\"{indexSelect.sum()} rows from {len(dfVali)} rows are by users watched at least minimum {TOP_N_MOVIE} movies.\")\n",
    "\n",
    "ndcgVali = dfVali[indexSelect].groupby(['userIndex']).apply(CalcNDCG).mean()\n",
    "print(f\"Average NDCG of validation set = {ndcgVali:.2f}\")"
   ]
  },
  {
   "cell_type": "markdown",
   "id": "0622e391",
   "metadata": {},
   "source": [
    "## Make Recommendation"
   ]
  },
  {
   "cell_type": "code",
   "execution_count": 11,
   "id": "5e354996",
   "metadata": {},
   "outputs": [
    {
     "data": {
      "text/html": [
       "<div>\n",
       "<style scoped>\n",
       "    .dataframe tbody tr th:only-of-type {\n",
       "        vertical-align: middle;\n",
       "    }\n",
       "\n",
       "    .dataframe tbody tr th {\n",
       "        vertical-align: top;\n",
       "    }\n",
       "\n",
       "    .dataframe thead th {\n",
       "        text-align: right;\n",
       "    }\n",
       "</style>\n",
       "<table border=\"1\" class=\"dataframe\">\n",
       "  <thead>\n",
       "    <tr style=\"text-align: right;\">\n",
       "      <th></th>\n",
       "      <th>movieId</th>\n",
       "      <th>title</th>\n",
       "      <th>genres</th>\n",
       "    </tr>\n",
       "  </thead>\n",
       "  <tbody>\n",
       "    <tr>\n",
       "      <th>0</th>\n",
       "      <td>1</td>\n",
       "      <td>Toy Story (1995)</td>\n",
       "      <td>Adventure|Animation|Children|Comedy|Fantasy</td>\n",
       "    </tr>\n",
       "    <tr>\n",
       "      <th>1</th>\n",
       "      <td>2</td>\n",
       "      <td>Jumanji (1995)</td>\n",
       "      <td>Adventure|Children|Fantasy</td>\n",
       "    </tr>\n",
       "    <tr>\n",
       "      <th>2</th>\n",
       "      <td>3</td>\n",
       "      <td>Grumpier Old Men (1995)</td>\n",
       "      <td>Comedy|Romance</td>\n",
       "    </tr>\n",
       "  </tbody>\n",
       "</table>\n",
       "</div>"
      ],
      "text/plain": [
       "   movieId                    title  \\\n",
       "0        1         Toy Story (1995)   \n",
       "1        2           Jumanji (1995)   \n",
       "2        3  Grumpier Old Men (1995)   \n",
       "\n",
       "                                        genres  \n",
       "0  Adventure|Animation|Children|Comedy|Fantasy  \n",
       "1                   Adventure|Children|Fantasy  \n",
       "2                               Comedy|Romance  "
      ]
     },
     "execution_count": 11,
     "metadata": {},
     "output_type": "execute_result"
    }
   ],
   "source": [
    "# Load movies data\n",
    "dfMovie = pd.read_csv('data/movies.csv')\n",
    "dfMovie.head(3)"
   ]
  },
  {
   "cell_type": "markdown",
   "id": "0ef55e70",
   "metadata": {},
   "source": [
    "### Top 5 movies to be recommended to a given user"
   ]
  },
  {
   "cell_type": "code",
   "execution_count": 16,
   "id": "035085e9",
   "metadata": {},
   "outputs": [],
   "source": [
    "def MakeRecommandation(userId, topN=5, includeWatched=True):\n",
    "    # Prepare input array\n",
    "    if not includeWatched:\n",
    "        sMovieIdWatched = set(dfRating[dfRating['userId'] == userId]['movieId'])\n",
    "        sMovieIdNotWatched = set(dfMovie[~dfMovie['movieId'].isin(sMovieIdWatched)]['movieId'])\n",
    "        print(f\"User {userId} has watched {len(sMovieIdWatched)} movies, and there are {len(sMovieIdNotWatched)} movies not watched yet.\")\n",
    "\n",
    "        arMoiveIndex = encMovie.transform(list(sMovieIdNotWatched.intersection(encMovie.classes_)))\n",
    "        print(f\"There are {len(arMoiveIndex)} movies not wated with encoding.\")\n",
    "    \n",
    "    else:\n",
    "        arMoiveIndex = encMovie.transform(encMovie.classes_)\n",
    "\n",
    "    arUserIndex = encUser.transform([userId])\n",
    "    arUserMovieIndex = np.hstack((\n",
    "        [arUserIndex]*len(arMoiveIndex),\n",
    "        arMoiveIndex.reshape(-1,1)\n",
    "    ))\n",
    "    print(f\"Shape of input array = {arUserMovieIndex.shape}\") # [[473, 5847], [473, 2], [473, 3], ...]\n",
    "\n",
    "    # Predict\n",
    "    arPred = model.predict(arUserMovieIndex).flatten()\n",
    "    print(f\"Predicted rating for {len(arPred)} movies.\")\n",
    "\n",
    "    # Filter top N\n",
    "    arTopMoviePredIndex = arPred.argsort()[-topN:][::-1] # [::-1] is to reverse the array\n",
    "    arTopMoviePredRating = scaler.inverse_transform([arPred[arTopMoviePredIndex]]).flatten()\n",
    "\n",
    "    arTopMovieIndex = arMoiveIndex[arTopMoviePredIndex]\n",
    "    print(f\"Enconded index of top rated movies = {arTopMovieIndex}\")\n",
    "    arTopMovieId = encMovie.inverse_transform(arTopMovieIndex)\n",
    "    print(f\"Movie ID of top rated movies = {arTopMovieId}\")\n",
    "\n",
    "    dfRecommend = pd.DataFrame({'movieId':arTopMovieId, 'predictedRating':arTopMoviePredRating})\n",
    "    return dfRecommend.merge(dfMovie, 'left', 'movieId')\n"
   ]
  },
  {
   "cell_type": "code",
   "execution_count": 17,
   "id": "99c84a05",
   "metadata": {},
   "outputs": [
    {
     "name": "stdout",
     "output_type": "stream",
     "text": [
      "User 474 has watched 2108 movies, and there are 7634 movies not watched yet.\n",
      "There are 7616 movies not wated with encoding.\n",
      "Shape of input array = (7616, 2)\n",
      "Predicted rating for 7616 movies.\n",
      "Enconded index of top rated movies = [ 959 4390  661 6755 9053]\n",
      "Movie ID of top rated movies = [  1261   6460    866  60069 142488]\n"
     ]
    },
    {
     "data": {
      "text/html": [
       "<div>\n",
       "<style scoped>\n",
       "    .dataframe tbody tr th:only-of-type {\n",
       "        vertical-align: middle;\n",
       "    }\n",
       "\n",
       "    .dataframe tbody tr th {\n",
       "        vertical-align: top;\n",
       "    }\n",
       "\n",
       "    .dataframe thead th {\n",
       "        text-align: right;\n",
       "    }\n",
       "</style>\n",
       "<table border=\"1\" class=\"dataframe\">\n",
       "  <thead>\n",
       "    <tr style=\"text-align: right;\">\n",
       "      <th></th>\n",
       "      <th>movieId</th>\n",
       "      <th>predictedRating</th>\n",
       "      <th>title</th>\n",
       "      <th>genres</th>\n",
       "    </tr>\n",
       "  </thead>\n",
       "  <tbody>\n",
       "    <tr>\n",
       "      <th>0</th>\n",
       "      <td>1261</td>\n",
       "      <td>4.296661</td>\n",
       "      <td>Evil Dead II (Dead by Dawn) (1987)</td>\n",
       "      <td>Action|Comedy|Fantasy|Horror</td>\n",
       "    </tr>\n",
       "    <tr>\n",
       "      <th>1</th>\n",
       "      <td>6460</td>\n",
       "      <td>4.286385</td>\n",
       "      <td>Trial, The (Procès, Le) (1962)</td>\n",
       "      <td>Drama</td>\n",
       "    </tr>\n",
       "    <tr>\n",
       "      <th>2</th>\n",
       "      <td>866</td>\n",
       "      <td>4.277146</td>\n",
       "      <td>Bound (1996)</td>\n",
       "      <td>Crime|Drama|Romance|Thriller</td>\n",
       "    </tr>\n",
       "    <tr>\n",
       "      <th>3</th>\n",
       "      <td>60069</td>\n",
       "      <td>4.276143</td>\n",
       "      <td>WALL·E (2008)</td>\n",
       "      <td>Adventure|Animation|Children|Romance|Sci-Fi</td>\n",
       "    </tr>\n",
       "    <tr>\n",
       "      <th>4</th>\n",
       "      <td>142488</td>\n",
       "      <td>4.269154</td>\n",
       "      <td>Spotlight (2015)</td>\n",
       "      <td>Thriller</td>\n",
       "    </tr>\n",
       "  </tbody>\n",
       "</table>\n",
       "</div>"
      ],
      "text/plain": [
       "   movieId  predictedRating                               title  \\\n",
       "0     1261         4.296661  Evil Dead II (Dead by Dawn) (1987)   \n",
       "1     6460         4.286385      Trial, The (Procès, Le) (1962)   \n",
       "2      866         4.277146                        Bound (1996)   \n",
       "3    60069         4.276143                       WALL·E (2008)   \n",
       "4   142488         4.269154                    Spotlight (2015)   \n",
       "\n",
       "                                        genres  \n",
       "0                 Action|Comedy|Fantasy|Horror  \n",
       "1                                        Drama  \n",
       "2                 Crime|Drama|Romance|Thriller  \n",
       "3  Adventure|Animation|Children|Romance|Sci-Fi  \n",
       "4                                     Thriller  "
      ]
     },
     "execution_count": 17,
     "metadata": {},
     "output_type": "execute_result"
    }
   ],
   "source": [
    "userId = 474\n",
    "\n",
    "MakeRecommandation(474, includeWatched=False)"
   ]
  },
  {
   "cell_type": "code",
   "execution_count": 18,
   "id": "d57769d5",
   "metadata": {},
   "outputs": [
    {
     "data": {
      "text/html": [
       "<div>\n",
       "<style scoped>\n",
       "    .dataframe tbody tr th:only-of-type {\n",
       "        vertical-align: middle;\n",
       "    }\n",
       "\n",
       "    .dataframe tbody tr th {\n",
       "        vertical-align: top;\n",
       "    }\n",
       "\n",
       "    .dataframe thead th {\n",
       "        text-align: right;\n",
       "    }\n",
       "</style>\n",
       "<table border=\"1\" class=\"dataframe\">\n",
       "  <thead>\n",
       "    <tr style=\"text-align: right;\">\n",
       "      <th></th>\n",
       "      <th>genres</th>\n",
       "      <th>count</th>\n",
       "      <th>avg_rating</th>\n",
       "    </tr>\n",
       "  </thead>\n",
       "  <tbody>\n",
       "    <tr>\n",
       "      <th>311</th>\n",
       "      <td>Drama</td>\n",
       "      <td>319</td>\n",
       "      <td>3.625392</td>\n",
       "    </tr>\n",
       "    <tr>\n",
       "      <th>216</th>\n",
       "      <td>Comedy</td>\n",
       "      <td>152</td>\n",
       "      <td>2.766447</td>\n",
       "    </tr>\n",
       "    <tr>\n",
       "      <th>345</th>\n",
       "      <td>Drama|Romance</td>\n",
       "      <td>124</td>\n",
       "      <td>3.572581</td>\n",
       "    </tr>\n",
       "    <tr>\n",
       "      <th>264</th>\n",
       "      <td>Comedy|Romance</td>\n",
       "      <td>96</td>\n",
       "      <td>3.442708</td>\n",
       "    </tr>\n",
       "    <tr>\n",
       "      <th>233</th>\n",
       "      <td>Comedy|Drama</td>\n",
       "      <td>93</td>\n",
       "      <td>3.381720</td>\n",
       "    </tr>\n",
       "  </tbody>\n",
       "</table>\n",
       "</div>"
      ],
      "text/plain": [
       "             genres  count  avg_rating\n",
       "311           Drama    319    3.625392\n",
       "216          Comedy    152    2.766447\n",
       "345   Drama|Romance    124    3.572581\n",
       "264  Comedy|Romance     96    3.442708\n",
       "233    Comedy|Drama     93    3.381720"
      ]
     },
     "execution_count": 18,
     "metadata": {},
     "output_type": "execute_result"
    }
   ],
   "source": [
    "# As benchmark: genres of movies this user has rated\n",
    "\n",
    "dfMovieWatched = dfRating[dfRating['userId'] == userId][['userId', 'movieId', 'rating']]\n",
    "dfMovieWatched = dfMovieWatched.merge(dfMovie, 'left', 'movieId')\n",
    "dfGenresCount = dfMovieWatched.groupby(['genres']).size().rename('count').reset_index()\n",
    "dfGenresRating = dfMovieWatched.groupby(['genres'])['rating'].mean().rename('avg_rating').reset_index()\n",
    "\n",
    "dfGenresCount.merge(dfGenresRating, 'left', ['genres']).sort_values('count', ascending=False).head(5)"
   ]
  },
  {
   "cell_type": "markdown",
   "id": "b9324e3c",
   "metadata": {},
   "source": [
    "Let's make some more recommendations, to see how this model behaves cross different users."
   ]
  },
  {
   "cell_type": "code",
   "execution_count": 19,
   "id": "856fdd56",
   "metadata": {},
   "outputs": [
    {
     "name": "stdout",
     "output_type": "stream",
     "text": [
      "Shape of input array = (9724, 2)\n",
      "Predicted rating for 9724 movies.\n",
      "Enconded index of top rated movies = [659 602 898 694 950]\n",
      "Movie ID of top rated movies = [ 858  750 1197  912 1252]\n"
     ]
    },
    {
     "data": {
      "text/html": [
       "<div>\n",
       "<style scoped>\n",
       "    .dataframe tbody tr th:only-of-type {\n",
       "        vertical-align: middle;\n",
       "    }\n",
       "\n",
       "    .dataframe tbody tr th {\n",
       "        vertical-align: top;\n",
       "    }\n",
       "\n",
       "    .dataframe thead th {\n",
       "        text-align: right;\n",
       "    }\n",
       "</style>\n",
       "<table border=\"1\" class=\"dataframe\">\n",
       "  <thead>\n",
       "    <tr style=\"text-align: right;\">\n",
       "      <th></th>\n",
       "      <th>movieId</th>\n",
       "      <th>predictedRating</th>\n",
       "      <th>title</th>\n",
       "      <th>genres</th>\n",
       "    </tr>\n",
       "  </thead>\n",
       "  <tbody>\n",
       "    <tr>\n",
       "      <th>0</th>\n",
       "      <td>858</td>\n",
       "      <td>4.598459</td>\n",
       "      <td>Godfather, The (1972)</td>\n",
       "      <td>Crime|Drama</td>\n",
       "    </tr>\n",
       "    <tr>\n",
       "      <th>1</th>\n",
       "      <td>750</td>\n",
       "      <td>4.565813</td>\n",
       "      <td>Dr. Strangelove or: How I Learned to Stop Worr...</td>\n",
       "      <td>Comedy|War</td>\n",
       "    </tr>\n",
       "    <tr>\n",
       "      <th>2</th>\n",
       "      <td>1197</td>\n",
       "      <td>4.532608</td>\n",
       "      <td>Princess Bride, The (1987)</td>\n",
       "      <td>Action|Adventure|Comedy|Fantasy|Romance</td>\n",
       "    </tr>\n",
       "    <tr>\n",
       "      <th>3</th>\n",
       "      <td>912</td>\n",
       "      <td>4.526883</td>\n",
       "      <td>Casablanca (1942)</td>\n",
       "      <td>Drama|Romance</td>\n",
       "    </tr>\n",
       "    <tr>\n",
       "      <th>4</th>\n",
       "      <td>1252</td>\n",
       "      <td>4.500250</td>\n",
       "      <td>Chinatown (1974)</td>\n",
       "      <td>Crime|Film-Noir|Mystery|Thriller</td>\n",
       "    </tr>\n",
       "  </tbody>\n",
       "</table>\n",
       "</div>"
      ],
      "text/plain": [
       "   movieId  predictedRating  \\\n",
       "0      858         4.598459   \n",
       "1      750         4.565813   \n",
       "2     1197         4.532608   \n",
       "3      912         4.526883   \n",
       "4     1252         4.500250   \n",
       "\n",
       "                                               title  \\\n",
       "0                              Godfather, The (1972)   \n",
       "1  Dr. Strangelove or: How I Learned to Stop Worr...   \n",
       "2                         Princess Bride, The (1987)   \n",
       "3                                  Casablanca (1942)   \n",
       "4                                   Chinatown (1974)   \n",
       "\n",
       "                                    genres  \n",
       "0                              Crime|Drama  \n",
       "1                               Comedy|War  \n",
       "2  Action|Adventure|Comedy|Fantasy|Romance  \n",
       "3                            Drama|Romance  \n",
       "4         Crime|Film-Noir|Mystery|Thriller  "
      ]
     },
     "execution_count": 19,
     "metadata": {},
     "output_type": "execute_result"
    }
   ],
   "source": [
    "MakeRecommandation(474)"
   ]
  },
  {
   "cell_type": "code",
   "execution_count": 20,
   "id": "0342c3ab",
   "metadata": {},
   "outputs": [
    {
     "name": "stdout",
     "output_type": "stream",
     "text": [
      "Shape of input array = (9724, 2)\n",
      "Predicted rating for 9724 movies.\n",
      "Enconded index of top rated movies = [ 277  461 2224  510  659]\n",
      "Movie ID of top rated movies = [ 318  527 2959  593  858]\n"
     ]
    },
    {
     "data": {
      "text/html": [
       "<div>\n",
       "<style scoped>\n",
       "    .dataframe tbody tr th:only-of-type {\n",
       "        vertical-align: middle;\n",
       "    }\n",
       "\n",
       "    .dataframe tbody tr th {\n",
       "        vertical-align: top;\n",
       "    }\n",
       "\n",
       "    .dataframe thead th {\n",
       "        text-align: right;\n",
       "    }\n",
       "</style>\n",
       "<table border=\"1\" class=\"dataframe\">\n",
       "  <thead>\n",
       "    <tr style=\"text-align: right;\">\n",
       "      <th></th>\n",
       "      <th>movieId</th>\n",
       "      <th>predictedRating</th>\n",
       "      <th>title</th>\n",
       "      <th>genres</th>\n",
       "    </tr>\n",
       "  </thead>\n",
       "  <tbody>\n",
       "    <tr>\n",
       "      <th>0</th>\n",
       "      <td>318</td>\n",
       "      <td>4.933310</td>\n",
       "      <td>Shawshank Redemption, The (1994)</td>\n",
       "      <td>Crime|Drama</td>\n",
       "    </tr>\n",
       "    <tr>\n",
       "      <th>1</th>\n",
       "      <td>527</td>\n",
       "      <td>4.882585</td>\n",
       "      <td>Schindler's List (1993)</td>\n",
       "      <td>Drama|War</td>\n",
       "    </tr>\n",
       "    <tr>\n",
       "      <th>2</th>\n",
       "      <td>2959</td>\n",
       "      <td>4.874920</td>\n",
       "      <td>Fight Club (1999)</td>\n",
       "      <td>Action|Crime|Drama|Thriller</td>\n",
       "    </tr>\n",
       "    <tr>\n",
       "      <th>3</th>\n",
       "      <td>593</td>\n",
       "      <td>4.866759</td>\n",
       "      <td>Silence of the Lambs, The (1991)</td>\n",
       "      <td>Crime|Horror|Thriller</td>\n",
       "    </tr>\n",
       "    <tr>\n",
       "      <th>4</th>\n",
       "      <td>858</td>\n",
       "      <td>4.864358</td>\n",
       "      <td>Godfather, The (1972)</td>\n",
       "      <td>Crime|Drama</td>\n",
       "    </tr>\n",
       "  </tbody>\n",
       "</table>\n",
       "</div>"
      ],
      "text/plain": [
       "   movieId  predictedRating                             title  \\\n",
       "0      318         4.933310  Shawshank Redemption, The (1994)   \n",
       "1      527         4.882585           Schindler's List (1993)   \n",
       "2     2959         4.874920                 Fight Club (1999)   \n",
       "3      593         4.866759  Silence of the Lambs, The (1991)   \n",
       "4      858         4.864358             Godfather, The (1972)   \n",
       "\n",
       "                        genres  \n",
       "0                  Crime|Drama  \n",
       "1                    Drama|War  \n",
       "2  Action|Crime|Drama|Thriller  \n",
       "3        Crime|Horror|Thriller  \n",
       "4                  Crime|Drama  "
      ]
     },
     "execution_count": 20,
     "metadata": {},
     "output_type": "execute_result"
    }
   ],
   "source": [
    "MakeRecommandation(1)"
   ]
  },
  {
   "cell_type": "code",
   "execution_count": 21,
   "id": "c5133f13",
   "metadata": {},
   "outputs": [
    {
     "name": "stdout",
     "output_type": "stream",
     "text": [
      "Shape of input array = (9724, 2)\n",
      "Predicted rating for 9724 movies.\n",
      "Enconded index of top rated movies = [ 277  461  314   97 2224]\n",
      "Movie ID of top rated movies = [ 318  527  356  110 2959]\n"
     ]
    },
    {
     "data": {
      "text/html": [
       "<div>\n",
       "<style scoped>\n",
       "    .dataframe tbody tr th:only-of-type {\n",
       "        vertical-align: middle;\n",
       "    }\n",
       "\n",
       "    .dataframe tbody tr th {\n",
       "        vertical-align: top;\n",
       "    }\n",
       "\n",
       "    .dataframe thead th {\n",
       "        text-align: right;\n",
       "    }\n",
       "</style>\n",
       "<table border=\"1\" class=\"dataframe\">\n",
       "  <thead>\n",
       "    <tr style=\"text-align: right;\">\n",
       "      <th></th>\n",
       "      <th>movieId</th>\n",
       "      <th>predictedRating</th>\n",
       "      <th>title</th>\n",
       "      <th>genres</th>\n",
       "    </tr>\n",
       "  </thead>\n",
       "  <tbody>\n",
       "    <tr>\n",
       "      <th>0</th>\n",
       "      <td>318</td>\n",
       "      <td>4.450477</td>\n",
       "      <td>Shawshank Redemption, The (1994)</td>\n",
       "      <td>Crime|Drama</td>\n",
       "    </tr>\n",
       "    <tr>\n",
       "      <th>1</th>\n",
       "      <td>527</td>\n",
       "      <td>4.327934</td>\n",
       "      <td>Schindler's List (1993)</td>\n",
       "      <td>Drama|War</td>\n",
       "    </tr>\n",
       "    <tr>\n",
       "      <th>2</th>\n",
       "      <td>356</td>\n",
       "      <td>4.301731</td>\n",
       "      <td>Forrest Gump (1994)</td>\n",
       "      <td>Comedy|Drama|Romance|War</td>\n",
       "    </tr>\n",
       "    <tr>\n",
       "      <th>3</th>\n",
       "      <td>110</td>\n",
       "      <td>4.290006</td>\n",
       "      <td>Braveheart (1995)</td>\n",
       "      <td>Action|Drama|War</td>\n",
       "    </tr>\n",
       "    <tr>\n",
       "      <th>4</th>\n",
       "      <td>2959</td>\n",
       "      <td>4.166987</td>\n",
       "      <td>Fight Club (1999)</td>\n",
       "      <td>Action|Crime|Drama|Thriller</td>\n",
       "    </tr>\n",
       "  </tbody>\n",
       "</table>\n",
       "</div>"
      ],
      "text/plain": [
       "   movieId  predictedRating                             title  \\\n",
       "0      318         4.450477  Shawshank Redemption, The (1994)   \n",
       "1      527         4.327934           Schindler's List (1993)   \n",
       "2      356         4.301731               Forrest Gump (1994)   \n",
       "3      110         4.290006                 Braveheart (1995)   \n",
       "4     2959         4.166987                 Fight Club (1999)   \n",
       "\n",
       "                        genres  \n",
       "0                  Crime|Drama  \n",
       "1                    Drama|War  \n",
       "2     Comedy|Drama|Romance|War  \n",
       "3             Action|Drama|War  \n",
       "4  Action|Crime|Drama|Thriller  "
      ]
     },
     "execution_count": 21,
     "metadata": {},
     "output_type": "execute_result"
    }
   ],
   "source": [
    "MakeRecommandation(12)"
   ]
  },
  {
   "cell_type": "code",
   "execution_count": 22,
   "id": "0bfa215d",
   "metadata": {},
   "outputs": [
    {
     "name": "stdout",
     "output_type": "stream",
     "text": [
      "Shape of input array = (9724, 2)\n",
      "Predicted rating for 9724 movies.\n",
      "Enconded index of top rated movies = [ 277  461 2224  314 1938]\n",
      "Movie ID of top rated movies = [ 318  527 2959  356 2571]\n"
     ]
    },
    {
     "data": {
      "text/html": [
       "<div>\n",
       "<style scoped>\n",
       "    .dataframe tbody tr th:only-of-type {\n",
       "        vertical-align: middle;\n",
       "    }\n",
       "\n",
       "    .dataframe tbody tr th {\n",
       "        vertical-align: top;\n",
       "    }\n",
       "\n",
       "    .dataframe thead th {\n",
       "        text-align: right;\n",
       "    }\n",
       "</style>\n",
       "<table border=\"1\" class=\"dataframe\">\n",
       "  <thead>\n",
       "    <tr style=\"text-align: right;\">\n",
       "      <th></th>\n",
       "      <th>movieId</th>\n",
       "      <th>predictedRating</th>\n",
       "      <th>title</th>\n",
       "      <th>genres</th>\n",
       "    </tr>\n",
       "  </thead>\n",
       "  <tbody>\n",
       "    <tr>\n",
       "      <th>0</th>\n",
       "      <td>318</td>\n",
       "      <td>4.557800</td>\n",
       "      <td>Shawshank Redemption, The (1994)</td>\n",
       "      <td>Crime|Drama</td>\n",
       "    </tr>\n",
       "    <tr>\n",
       "      <th>1</th>\n",
       "      <td>527</td>\n",
       "      <td>4.391752</td>\n",
       "      <td>Schindler's List (1993)</td>\n",
       "      <td>Drama|War</td>\n",
       "    </tr>\n",
       "    <tr>\n",
       "      <th>2</th>\n",
       "      <td>2959</td>\n",
       "      <td>4.345587</td>\n",
       "      <td>Fight Club (1999)</td>\n",
       "      <td>Action|Crime|Drama|Thriller</td>\n",
       "    </tr>\n",
       "    <tr>\n",
       "      <th>3</th>\n",
       "      <td>356</td>\n",
       "      <td>4.344872</td>\n",
       "      <td>Forrest Gump (1994)</td>\n",
       "      <td>Comedy|Drama|Romance|War</td>\n",
       "    </tr>\n",
       "    <tr>\n",
       "      <th>4</th>\n",
       "      <td>2571</td>\n",
       "      <td>4.331648</td>\n",
       "      <td>Matrix, The (1999)</td>\n",
       "      <td>Action|Sci-Fi|Thriller</td>\n",
       "    </tr>\n",
       "  </tbody>\n",
       "</table>\n",
       "</div>"
      ],
      "text/plain": [
       "   movieId  predictedRating                             title  \\\n",
       "0      318         4.557800  Shawshank Redemption, The (1994)   \n",
       "1      527         4.391752           Schindler's List (1993)   \n",
       "2     2959         4.345587                 Fight Club (1999)   \n",
       "3      356         4.344872               Forrest Gump (1994)   \n",
       "4     2571         4.331648                Matrix, The (1999)   \n",
       "\n",
       "                        genres  \n",
       "0                  Crime|Drama  \n",
       "1                    Drama|War  \n",
       "2  Action|Crime|Drama|Thriller  \n",
       "3     Comedy|Drama|Romance|War  \n",
       "4       Action|Sci-Fi|Thriller  "
      ]
     },
     "execution_count": 22,
     "metadata": {},
     "output_type": "execute_result"
    }
   ],
   "source": [
    "MakeRecommandation(123)"
   ]
  },
  {
   "cell_type": "code",
   "execution_count": 23,
   "id": "862107f5",
   "metadata": {},
   "outputs": [
    {
     "name": "stdout",
     "output_type": "stream",
     "text": [
      "Shape of input array = (9724, 2)\n",
      "Predicted rating for 9724 movies.\n",
      "Enconded index of top rated movies = [1938  277  910  314 3189]\n",
      "Movie ID of top rated movies = [2571  318 1210  356 4306]\n"
     ]
    },
    {
     "data": {
      "text/html": [
       "<div>\n",
       "<style scoped>\n",
       "    .dataframe tbody tr th:only-of-type {\n",
       "        vertical-align: middle;\n",
       "    }\n",
       "\n",
       "    .dataframe tbody tr th {\n",
       "        vertical-align: top;\n",
       "    }\n",
       "\n",
       "    .dataframe thead th {\n",
       "        text-align: right;\n",
       "    }\n",
       "</style>\n",
       "<table border=\"1\" class=\"dataframe\">\n",
       "  <thead>\n",
       "    <tr style=\"text-align: right;\">\n",
       "      <th></th>\n",
       "      <th>movieId</th>\n",
       "      <th>predictedRating</th>\n",
       "      <th>title</th>\n",
       "      <th>genres</th>\n",
       "    </tr>\n",
       "  </thead>\n",
       "  <tbody>\n",
       "    <tr>\n",
       "      <th>0</th>\n",
       "      <td>2571</td>\n",
       "      <td>4.060020</td>\n",
       "      <td>Matrix, The (1999)</td>\n",
       "      <td>Action|Sci-Fi|Thriller</td>\n",
       "    </tr>\n",
       "    <tr>\n",
       "      <th>1</th>\n",
       "      <td>318</td>\n",
       "      <td>4.036465</td>\n",
       "      <td>Shawshank Redemption, The (1994)</td>\n",
       "      <td>Crime|Drama</td>\n",
       "    </tr>\n",
       "    <tr>\n",
       "      <th>2</th>\n",
       "      <td>1210</td>\n",
       "      <td>3.947243</td>\n",
       "      <td>Star Wars: Episode VI - Return of the Jedi (1983)</td>\n",
       "      <td>Action|Adventure|Sci-Fi</td>\n",
       "    </tr>\n",
       "    <tr>\n",
       "      <th>3</th>\n",
       "      <td>356</td>\n",
       "      <td>3.939895</td>\n",
       "      <td>Forrest Gump (1994)</td>\n",
       "      <td>Comedy|Drama|Romance|War</td>\n",
       "    </tr>\n",
       "    <tr>\n",
       "      <th>4</th>\n",
       "      <td>4306</td>\n",
       "      <td>3.936698</td>\n",
       "      <td>Shrek (2001)</td>\n",
       "      <td>Adventure|Animation|Children|Comedy|Fantasy|Ro...</td>\n",
       "    </tr>\n",
       "  </tbody>\n",
       "</table>\n",
       "</div>"
      ],
      "text/plain": [
       "   movieId  predictedRating  \\\n",
       "0     2571         4.060020   \n",
       "1      318         4.036465   \n",
       "2     1210         3.947243   \n",
       "3      356         3.939895   \n",
       "4     4306         3.936698   \n",
       "\n",
       "                                               title  \\\n",
       "0                                 Matrix, The (1999)   \n",
       "1                   Shawshank Redemption, The (1994)   \n",
       "2  Star Wars: Episode VI - Return of the Jedi (1983)   \n",
       "3                                Forrest Gump (1994)   \n",
       "4                                       Shrek (2001)   \n",
       "\n",
       "                                              genres  \n",
       "0                             Action|Sci-Fi|Thriller  \n",
       "1                                        Crime|Drama  \n",
       "2                            Action|Adventure|Sci-Fi  \n",
       "3                           Comedy|Drama|Romance|War  \n",
       "4  Adventure|Animation|Children|Comedy|Fantasy|Ro...  "
      ]
     },
     "execution_count": 23,
     "metadata": {},
     "output_type": "execute_result"
    }
   ],
   "source": [
    "MakeRecommandation(21)"
   ]
  },
  {
   "cell_type": "code",
   "execution_count": null,
   "id": "1a49abb7",
   "metadata": {},
   "outputs": [],
   "source": []
  }
 ],
 "metadata": {
  "kernelspec": {
   "display_name": "keras",
   "language": "python",
   "name": "keras"
  },
  "language_info": {
   "codemirror_mode": {
    "name": "ipython",
    "version": 3
   },
   "file_extension": ".py",
   "mimetype": "text/x-python",
   "name": "python",
   "nbconvert_exporter": "python",
   "pygments_lexer": "ipython3",
   "version": "3.8.5"
  }
 },
 "nbformat": 4,
 "nbformat_minor": 5
}
