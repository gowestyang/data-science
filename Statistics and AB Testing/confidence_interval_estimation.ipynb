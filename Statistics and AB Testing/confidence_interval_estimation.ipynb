{
 "cells": [
  {
   "cell_type": "markdown",
   "source": [
    "# Confidence Interval Estimation\r\n",
    "Yang Xi <br>\r\n",
    "09 Jul, 2016"
   ],
   "metadata": {}
  },
  {
   "cell_type": "markdown",
   "source": [
    "# Confidence Interval of Population Mean"
   ],
   "metadata": {}
  },
  {
   "cell_type": "code",
   "execution_count": 5,
   "source": [
    "import numpy as np\r\n",
    "import scipy.stats as ss"
   ],
   "outputs": [],
   "metadata": {}
  },
  {
   "cell_type": "markdown",
   "source": [
    "## With Known Population Variance (z-Distribution)"
   ],
   "metadata": {}
  },
  {
   "cell_type": "code",
   "execution_count": 7,
   "source": [
    "x = np.array([1,2,3,4,5,6,7,8,9,10])\r\n",
    "n = len(x)\r\n",
    "alpha = 0.05\r\n",
    "\r\n",
    "x_avg = x.mean()\r\n",
    "x_std_p = x.std(ddof=0)\r\n",
    "error = -ss.norm.ppf(alpha/2) * x_std_p / np.sqrt(n)\r\n",
    "print(f\"left = {x_avg-error}, right = {x_avg+error}\")"
   ],
   "outputs": [
    {
     "output_type": "stream",
     "name": "stdout",
     "text": [
      "left = 3.719774304456692, right = 7.280225695543308\n"
     ]
    }
   ],
   "metadata": {}
  },
  {
   "cell_type": "markdown",
   "source": [
    "## With Unknown Population Variance (t-Distribution)"
   ],
   "metadata": {}
  },
  {
   "cell_type": "code",
   "execution_count": 9,
   "source": [
    "x = np.array([1,2,3,4,5,6,7,8,9,10])\r\n",
    "n = len(x)\r\n",
    "alpha = 0.05\r\n",
    "\r\n",
    "x_avg = x.mean()\r\n",
    "x_std = x.std(ddof=1)\r\n",
    "error = -ss.t.ppf(alpha/2, df=n-1) * x_std / np.sqrt(n)\r\n",
    "print(f\"left = {x_avg-error}, right = {x_avg+error}\")"
   ],
   "outputs": [
    {
     "output_type": "stream",
     "name": "stdout",
     "text": [
      "left = 3.3341494103866083, right = 7.665850589613392\n"
     ]
    }
   ],
   "metadata": {}
  },
  {
   "cell_type": "markdown",
   "source": [
    "## Confidence Interval of Population Proportion\r\n",
    "Distribution of the sample proportion is approximately normal if the sample size is large."
   ],
   "metadata": {}
  },
  {
   "cell_type": "code",
   "execution_count": 10,
   "source": [
    "n = 100\r\n",
    "p = 0.25\r\n",
    "alpha = 0.05\r\n",
    "\r\n",
    "error = -ss.norm.ppf(alpha/2) * np.sqrt(p*(1-p)/n)\r\n",
    "print(f\"left = {p-error}, right = {p+error}\")"
   ],
   "outputs": [
    {
     "output_type": "stream",
     "name": "stdout",
     "text": [
      "left = 0.1651310699442871, right = 0.3348689300557129\n"
     ]
    }
   ],
   "metadata": {}
  }
 ],
 "metadata": {
  "kernelspec": {
   "name": "python3",
   "display_name": "Python 3.8.5 64-bit ('base': conda)"
  },
  "language_info": {
   "codemirror_mode": {
    "name": "ipython",
    "version": 3
   },
   "file_extension": ".py",
   "mimetype": "text/x-python",
   "name": "python",
   "nbconvert_exporter": "python",
   "pygments_lexer": "ipython3",
   "version": "3.8.5"
  },
  "interpreter": {
   "hash": "1f2b3eeb8c8c57cc9fbb2de5c20e128904099953a55cc5a227bd47864e28a4ba"
  }
 },
 "nbformat": 4,
 "nbformat_minor": 2
}