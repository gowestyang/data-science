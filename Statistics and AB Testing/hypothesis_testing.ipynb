{
 "cells": [
  {
   "cell_type": "markdown",
   "source": [
    "# Hypothesis Testing\r\n",
    "Yang Xi <br>\r\n",
    "22 Aug, 2021"
   ],
   "metadata": {}
  },
  {
   "cell_type": "code",
   "execution_count": 1,
   "source": [
    "import numpy as np\r\n",
    "import scipy.stats as ss"
   ],
   "outputs": [],
   "metadata": {}
  },
  {
   "cell_type": "markdown",
   "source": [
    "# Shapiro-Wilk Test: Exam Normal Distribution\r\n",
    "* Null hypothesis: normal"
   ],
   "metadata": {}
  },
  {
   "cell_type": "code",
   "execution_count": 2,
   "source": [
    "print(\"Large p-value ==> normally distributed:\")\r\n",
    "np.random.seed(1)\r\n",
    "ss.shapiro(np.random.normal(loc=5, scale=3, size=100))"
   ],
   "outputs": [
    {
     "output_type": "stream",
     "name": "stdout",
     "text": [
      "Large p-value ==> normally distributed:\n"
     ]
    },
    {
     "output_type": "execute_result",
     "data": {
      "text/plain": [
       "ShapiroResult(statistic=0.9920048713684082, pvalue=0.8215786218643188)"
      ]
     },
     "metadata": {},
     "execution_count": 2
    }
   ],
   "metadata": {}
  },
  {
   "cell_type": "code",
   "execution_count": 3,
   "source": [
    "print(\"Small p-value ==> significantly NOT normally distributed\")\r\n",
    "np.random.seed(1)\r\n",
    "ss.shapiro(np.random.uniform(low=2, high=4, size=100))"
   ],
   "outputs": [
    {
     "output_type": "stream",
     "name": "stdout",
     "text": [
      "Small p-value ==> significantly NOT normally distributed\n"
     ]
    },
    {
     "output_type": "execute_result",
     "data": {
      "text/plain": [
       "ShapiroResult(statistic=0.9471390247344971, pvalue=0.0005401436355896294)"
      ]
     },
     "metadata": {},
     "execution_count": 3
    }
   ],
   "metadata": {}
  },
  {
   "cell_type": "markdown",
   "source": [
    "# T-test of Means of Two Samples\r\n",
    "Refer to **AB Testing** for\r\n",
    "- t-test of two sample means\r\n",
    "- z-test of two sample proportions"
   ],
   "metadata": {}
  },
  {
   "cell_type": "markdown",
   "source": [
    "# Analysis of Variance (ANOVA) of Means of Multiple Samples\r\n",
    "- ANOVA generalizes the t-test beyond two means.\r\n",
    "- It is based on the **Law of Total Variance**, where the observed variance in a particular variable is partitioned into components attributable to different sources of variation. *Var(Y) = E[Var(Y|X)] + Var(E[Y|X])*\r\n",
    "- There are three classes of models used in ANOVA: fixed-effect, random-effects and mixed-effects.\r\n",
    "The most common approach of ANOVA is a linear model that relates the response to the treatments and blocks.\r\n",
    "    - **Assumptions**:\r\n",
    "        - **Independent** samples from **normally distributed** population\r\n",
    "        - **homoscedasticity** (equal variance) of samples.\r\n",
    "        - Normality and homoscedasticity of residuals.\r\n",
    "    - **Notes**:\r\n",
    "        - The model is linear in parameters, but may be **nonlinear across factor levels**.\r\n",
    "        - Interpretation is easy for **blanaced data**, but complicated for unbalanced data.\r\n",
    "        - ANOVA result is **independent of constant bias and scaling errors**: addint a constant to all observations, or multiplying all observations by a constant, does not alter the significance.\r\n",
    "    - Number of Factors:\r\n",
    "        - **One-Way ANOVA**: Single factor\r\n",
    "        - **N-Way ANOVA**: Generalized to multiple factors. **Factorial** experiments include observations at all combinations of levels of each factor, and they are more efficient than a series of single factor experiments. Factorial experiements can also detect interactions, and the interaction terms should be tested first.\r\n",
    "\r\n",
    "Reference:\r\n",
    "- *https://en.wikipedia.org/wiki/Analysis_of_variance*"
   ],
   "metadata": {}
  },
  {
   "cell_type": "markdown",
   "source": [
    "## One-Way ANOVA\r\n",
    "- **Null hypothesis**: the means are equal\r\n",
    "\r\n",
    "Benchmark: *https://en.wikipedia.org/wiki/One-way_analysis_of_variance*"
   ],
   "metadata": {}
  },
  {
   "cell_type": "code",
   "execution_count": 2,
   "source": [
    "ar1 = np.array([6,8,4,5,3,4])\r\n",
    "ar2 = np.array([8,12,9,11,6,8])\r\n",
    "ar3 = np.array([13,9,11,8,7,12])\r\n",
    "\r\n",
    "ss.f_oneway(ar1, ar2, ar3) # low p-value: significant differences between the means"
   ],
   "outputs": [
    {
     "output_type": "execute_result",
     "data": {
      "text/plain": [
       "F_onewayResult(statistic=9.264705882352942, pvalue=0.0023987773293929083)"
      ]
     },
     "metadata": {},
     "execution_count": 2
    }
   ],
   "metadata": {}
  },
  {
   "cell_type": "markdown",
   "source": [
    "### Formulation (manual calculation)"
   ],
   "metadata": {}
  },
  {
   "cell_type": "code",
   "execution_count": 3,
   "source": [
    "n_group = 3 # number of groups\r\n",
    "n = 6 # number of observations in each group\r\n",
    "m1, m2, m3 = ar1.mean(), ar2.mean(), ar3.mean()\r\n",
    "m = (m1 + m2 + m3) / 3 # overall group mean\r\n",
    "\r\n",
    "SB = n*(m1-m)**2 + n*(m2-m)**2 + n*(m3-m)**2 # between-group sum of squared differences\r\n",
    "fB = n_group - 1 # between-group degress of freedom\r\n",
    "MSB = SB / fB # between-group mean square value\r\n",
    "\r\n",
    "ar1_center, ar2_center, ar3_center = ar1-m1, ar2-m2, ar3-m3\r\n",
    "SW = (ar1_center**2).sum() + (ar2_center**2).sum() + (ar3_center**2).sum() # within-group sum of squares\r\n",
    "fW = n_group * (n-1) # within-group degrees of freedom\r\n",
    "MSW = SW / fW # within-group mean square value\r\n",
    "\r\n",
    "F = MSB / MSW\r\n",
    "if F<1:\r\n",
    "    p = ss.f.cdf(F, fW, fB)\r\n",
    "else:\r\n",
    "    p = ss.f.sf(F, fB, fW)\r\n",
    "\r\n",
    "F, p"
   ],
   "outputs": [
    {
     "output_type": "execute_result",
     "data": {
      "text/plain": [
       "(9.264705882352942, 0.0023987773293929083)"
      ]
     },
     "metadata": {},
     "execution_count": 3
    }
   ],
   "metadata": {}
  },
  {
   "cell_type": "markdown",
   "source": [
    "## Two-Way ANOVA\r\n",
    "- **Null hypothesis**: the means are equal\r\n",
    "\r\n",
    "Benchmark: *https://www.statology.org/two-way-anova-python/*"
   ],
   "metadata": {}
  },
  {
   "cell_type": "code",
   "execution_count": 4,
   "source": [
    "import pandas as pd\r\n",
    "\r\n",
    "# water: watering frequency\r\n",
    "# sun: sunlight exposure\r\n",
    "# height: height of each plant after two months\r\n",
    "df = pd.DataFrame({ \\\r\n",
    "    'water': np.repeat(['daily', 'weekly'], 15),\r\n",
    "    'sun': np.tile(np.repeat(['low', 'med', 'high'], 5), 2),\r\n",
    "    'height': [6, 6, 6, 5, 6, 5, 5, 6, 4, 5, \\\r\n",
    "        6, 6, 7, 8, 7, 3, 4, 4, 4, 5,\r\n",
    "        4, 4, 4, 4, 4, 5, 6, 6, 7, 8]\r\n",
    "        })\r\n",
    "\r\n",
    "df.shape"
   ],
   "outputs": [
    {
     "output_type": "execute_result",
     "data": {
      "text/plain": [
       "(30, 3)"
      ]
     },
     "metadata": {},
     "execution_count": 4
    }
   ],
   "metadata": {}
  },
  {
   "cell_type": "code",
   "execution_count": 5,
   "source": [
    "import statsmodels.api as sm\r\n",
    "from statsmodels.formula.api import ols\r\n",
    "\r\n",
    "#perform two-way ANOVA\r\n",
    "model = ols('height ~ C(water) + C(sun) + C(water):C(sun)', data=df).fit()\r\n",
    "sm.stats.anova_lm(model, typ=2)"
   ],
   "outputs": [
    {
     "output_type": "execute_result",
     "data": {
      "text/plain": [
       "                    sum_sq    df        F    PR(>F)\n",
       "C(water)          8.533333   1.0  16.0000  0.000527\n",
       "C(sun)           24.866667   2.0  23.3125  0.000002\n",
       "C(water):C(sun)   2.466667   2.0   2.3125  0.120667\n",
       "Residual         12.800000  24.0      NaN       NaN"
      ],
      "text/html": [
       "<div>\n",
       "<style scoped>\n",
       "    .dataframe tbody tr th:only-of-type {\n",
       "        vertical-align: middle;\n",
       "    }\n",
       "\n",
       "    .dataframe tbody tr th {\n",
       "        vertical-align: top;\n",
       "    }\n",
       "\n",
       "    .dataframe thead th {\n",
       "        text-align: right;\n",
       "    }\n",
       "</style>\n",
       "<table border=\"1\" class=\"dataframe\">\n",
       "  <thead>\n",
       "    <tr style=\"text-align: right;\">\n",
       "      <th></th>\n",
       "      <th>sum_sq</th>\n",
       "      <th>df</th>\n",
       "      <th>F</th>\n",
       "      <th>PR(&gt;F)</th>\n",
       "    </tr>\n",
       "  </thead>\n",
       "  <tbody>\n",
       "    <tr>\n",
       "      <th>C(water)</th>\n",
       "      <td>8.533333</td>\n",
       "      <td>1.0</td>\n",
       "      <td>16.0000</td>\n",
       "      <td>0.000527</td>\n",
       "    </tr>\n",
       "    <tr>\n",
       "      <th>C(sun)</th>\n",
       "      <td>24.866667</td>\n",
       "      <td>2.0</td>\n",
       "      <td>23.3125</td>\n",
       "      <td>0.000002</td>\n",
       "    </tr>\n",
       "    <tr>\n",
       "      <th>C(water):C(sun)</th>\n",
       "      <td>2.466667</td>\n",
       "      <td>2.0</td>\n",
       "      <td>2.3125</td>\n",
       "      <td>0.120667</td>\n",
       "    </tr>\n",
       "    <tr>\n",
       "      <th>Residual</th>\n",
       "      <td>12.800000</td>\n",
       "      <td>24.0</td>\n",
       "      <td>NaN</td>\n",
       "      <td>NaN</td>\n",
       "    </tr>\n",
       "  </tbody>\n",
       "</table>\n",
       "</div>"
      ]
     },
     "metadata": {},
     "execution_count": 5
    }
   ],
   "metadata": {}
  },
  {
   "cell_type": "markdown",
   "source": [
    "Interpretation\r\n",
    "- water*sun: high p-value indicates no significant interaction between watering frequency and sunlight exposure.\r\n",
    "- water: small p-value indicates significant effect on plant height\r\n",
    "- sun: small p-value indicates significant effect on plant height"
   ],
   "metadata": {}
  },
  {
   "cell_type": "markdown",
   "source": [
    "# F-test of Variances of Two Samples\r\n",
    "* **Null hypothesis**: the two variances are equal\r\n",
    "* **Assumption**: sample from normal distributed population\r\n",
    "\r\n",
    "F-test is extremely sensitive to non-normality samples. **Levene's test** or **Bartlett's test** are more robust alternatives."
   ],
   "metadata": {}
  },
  {
   "cell_type": "code",
   "execution_count": 4,
   "source": [
    "# This function is to match the implementation of var.test in R\r\n",
    "def f_test(ar1, ar2, alternative=\"two_sided\"):\r\n",
    "    df1, df2 = len(ar1) - 1, len(ar2) - 1\r\n",
    "    var1, var2 = ar1.var(ddof=1), ar2.var(ddof=1)\r\n",
    "    f = var1 / var2\r\n",
    "    if alternative == \"two_sided\":\r\n",
    "        if f < 1:\r\n",
    "            p = 2*ss.f.cdf(f, df1, df2)\r\n",
    "        else:\r\n",
    "            p = 2*ss.f.cdf(1/f, df2, df1)\r\n",
    "    if alternative == \"less\": # significant if var1 < var2\r\n",
    "        p = ss.f.cdf(f, df1, df2)\r\n",
    "    if alternative == \"greater\": # significant if var1 > var2\r\n",
    "        p = ss.f.sf(f, df1, df2)\r\n",
    "    return f, p"
   ],
   "outputs": [],
   "metadata": {}
  },
  {
   "cell_type": "code",
   "execution_count": 5,
   "source": [
    "print(\"Two-sided: large p-value ==> equal variances\")\r\n",
    "np.random.seed(1)\r\n",
    "n = 10000\r\n",
    "ar1 = np.random.uniform(low=0, high=1, size=n)\r\n",
    "ar2 = np.random.uniform(low=0, high=1, size=n)\r\n",
    "f, p = f_test(ar1, ar2, alternative=\"two_sided\")\r\n",
    "print(f\"f statistics = {f}, p value = {p}\")"
   ],
   "outputs": [
    {
     "output_type": "stream",
     "name": "stdout",
     "text": [
      "Two-sided: large p-value ==> equal variances\n",
      "f statistics = 0.9894128128015265, p value = 0.5946288001782598\n"
     ]
    }
   ],
   "metadata": {}
  },
  {
   "cell_type": "code",
   "execution_count": 6,
   "source": [
    "print(\"Two-sided: small p-value ==> significantly different variances\")\r\n",
    "np.random.seed(1)\r\n",
    "n = 10000\r\n",
    "v1 = np.random.uniform(low=0, high=1, size=n)\r\n",
    "v2 = np.random.uniform(low=0, high=10, size=n)\r\n",
    "f, p = f_test(v1, v2)\r\n",
    "print(f\"f statistics = {f}, p value = {p}\")"
   ],
   "outputs": [
    {
     "output_type": "stream",
     "name": "stdout",
     "text": [
      "Two-sided: small p-value ==> significantly different variances\n",
      "f statistics = 0.009894128128015265, p value = 0.0\n"
     ]
    }
   ],
   "metadata": {}
  },
  {
   "cell_type": "code",
   "execution_count": 7,
   "source": [
    "print(\"One-sided: small p-value ==> var1 significantly less than var2\")\r\n",
    "f, p = f_test(v1, v2, alternative=\"less\")\r\n",
    "print(f\"f statistics = {f}, p value = {p}\")"
   ],
   "outputs": [
    {
     "output_type": "stream",
     "name": "stdout",
     "text": [
      "One-sided: small p-value ==> var1 significantly less than var2\n",
      "f statistics = 0.009894128128015265, p value = 0.0\n"
     ]
    }
   ],
   "metadata": {}
  },
  {
   "cell_type": "code",
   "execution_count": 8,
   "source": [
    "print(\"One-sided: large p-value ==> var1 larger than var2\")\r\n",
    "f, p = f_test(v1, v2, alternative=\"greater\")\r\n",
    "print(f\"f statistics = {f}, p value = {p}\")"
   ],
   "outputs": [
    {
     "output_type": "stream",
     "name": "stdout",
     "text": [
      "One-sided: large p-value ==> var1 larger than var2\n",
      "f statistics = 0.009894128128015265, p value = 0.9999999999999999\n"
     ]
    }
   ],
   "metadata": {}
  },
  {
   "cell_type": "markdown",
   "source": [
    "# Chi-Square Test of Independence between Two Categorical Variables\r\n",
    "\r\n",
    "* **Null hypothesis**: the two variables are independent\r\n",
    "\r\n",
    "Reference: *https://towardsdatascience.com/chi-square-test-for-independence-in-python-with-examples-from-the-ibm-hr-analytics-dataset-97b9ec9bb80a*"
   ],
   "metadata": {}
  },
  {
   "cell_type": "code",
   "execution_count": 9,
   "source": [
    "import pandas as pd\r\n",
    "\r\n",
    "np.random.seed(0)\r\n",
    "p1 = 0.2\r\n",
    "p21, p22 = 0.2, 0.3\r\n",
    "q1, q2 = 1-p1, 1-p21-p22\r\n",
    "ar1 = np.random.choice([0,1], size=10000, p=[p1,q1])\r\n",
    "ar2 = np.random.choice([0,1,2], size=10000, p=[p21,p22,q2])\r\n",
    "\r\n",
    "dfContingency = pd.crosstab(ar1, ar2)\r\n",
    "dfContingency"
   ],
   "outputs": [
    {
     "output_type": "execute_result",
     "data": {
      "text/plain": [
       "col_0     0     1     2\n",
       "row_0                  \n",
       "0       422   627  1011\n",
       "1      1661  2355  3924"
      ],
      "text/html": [
       "<div>\n",
       "<style scoped>\n",
       "    .dataframe tbody tr th:only-of-type {\n",
       "        vertical-align: middle;\n",
       "    }\n",
       "\n",
       "    .dataframe tbody tr th {\n",
       "        vertical-align: top;\n",
       "    }\n",
       "\n",
       "    .dataframe thead th {\n",
       "        text-align: right;\n",
       "    }\n",
       "</style>\n",
       "<table border=\"1\" class=\"dataframe\">\n",
       "  <thead>\n",
       "    <tr style=\"text-align: right;\">\n",
       "      <th>col_0</th>\n",
       "      <th>0</th>\n",
       "      <th>1</th>\n",
       "      <th>2</th>\n",
       "    </tr>\n",
       "    <tr>\n",
       "      <th>row_0</th>\n",
       "      <th></th>\n",
       "      <th></th>\n",
       "      <th></th>\n",
       "    </tr>\n",
       "  </thead>\n",
       "  <tbody>\n",
       "    <tr>\n",
       "      <th>0</th>\n",
       "      <td>422</td>\n",
       "      <td>627</td>\n",
       "      <td>1011</td>\n",
       "    </tr>\n",
       "    <tr>\n",
       "      <th>1</th>\n",
       "      <td>1661</td>\n",
       "      <td>2355</td>\n",
       "      <td>3924</td>\n",
       "    </tr>\n",
       "  </tbody>\n",
       "</table>\n",
       "</div>"
      ]
     },
     "metadata": {},
     "execution_count": 9
    }
   ],
   "metadata": {}
  },
  {
   "cell_type": "code",
   "execution_count": 10,
   "source": [
    "# Large p-value ==> independent\r\n",
    "arContingency = np.array(dfContingency)\r\n",
    "chi2, p, dof, expected = ss.chi2_contingency(arContingency)\r\n",
    "print(f\"chi2 = {chi2}, pvalue = {p}, dof = {dof}\")"
   ],
   "outputs": [
    {
     "output_type": "stream",
     "name": "stdout",
     "text": [
      "chi2 = 0.517964767425645, pvalue = 0.7718366198194897, dof = 2\n"
     ]
    }
   ],
   "metadata": {}
  },
  {
   "cell_type": "code",
   "execution_count": 11,
   "source": [
    "# Formulation (manual calculation)\r\n",
    "print(\"manual calculation:\")\r\n",
    "seRowSum = dfContingency.sum(axis=1)\r\n",
    "seColSum = dfContingency.sum(axis=0)\r\n",
    "itotal = seRowSum.sum()\r\n",
    "arExpected = np.array(seRowSum.to_frame().dot(seColSum.to_frame().T) / itotal)\r\n",
    "print(f\"Expected: {arExpected}\")\r\n",
    "\r\n",
    "chi2_manual = ((dfContingency - arExpected)**2 / arExpected).sum().sum()\r\n",
    "dof_manual = (dfContingency.shape[0]-1) * (dfContingency.shape[1]-1)\r\n",
    "p_manual = ss.chi2.sf(chi2_manual, dof_manual)\r\n",
    "print(f\"chi2 = {chi2_manual}, pvalue = {p_manual}, dof = {dof_manual}\")"
   ],
   "outputs": [
    {
     "output_type": "stream",
     "name": "stdout",
     "text": [
      "manual calculation:\n",
      "Expected: [[ 429.098  614.292 1016.61 ]\n",
      " [1653.902 2367.708 3918.39 ]]\n",
      "chi2 = 0.517964767425645, pvalue = 0.7718366198194897, dof = 2\n"
     ]
    }
   ],
   "metadata": {}
  }
 ],
 "metadata": {
  "kernelspec": {
   "name": "python3",
   "display_name": "Python 3.8.8 64-bit ('base': conda)"
  },
  "language_info": {
   "codemirror_mode": {
    "name": "ipython",
    "version": 3
   },
   "file_extension": ".py",
   "mimetype": "text/x-python",
   "name": "python",
   "nbconvert_exporter": "python",
   "pygments_lexer": "ipython3",
   "version": "3.8.8"
  },
  "interpreter": {
   "hash": "7b4b4feff2f24a0f0a34464dbe537a36fda679851528fb8735cb41fa49dffb2d"
  }
 },
 "nbformat": 4,
 "nbformat_minor": 2
}